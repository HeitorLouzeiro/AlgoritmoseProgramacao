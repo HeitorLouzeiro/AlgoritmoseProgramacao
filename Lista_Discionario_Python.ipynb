{
  "nbformat": 4,
  "nbformat_minor": 0,
  "metadata": {
    "colab": {
      "name": "Lista_Discionario_Python.ipynb",
      "provenance": [],
      "collapsed_sections": [
        "opBoYOQ586Gw"
      ],
      "authorship_tag": "ABX9TyOpDwof90Q+kt+mnmJZF3lW",
      "include_colab_link": true
    },
    "kernelspec": {
      "name": "python3",
      "display_name": "Python 3"
    },
    "language_info": {
      "name": "python"
    }
  },
  "cells": [
    {
      "cell_type": "markdown",
      "metadata": {
        "id": "view-in-github",
        "colab_type": "text"
      },
      "source": [
        "<a href=\"https://colab.research.google.com/github/fgsantosti/AlgoritmoseProgramacao/blob/master/Lista_Discionario_Python.ipynb\" target=\"_parent\"><img src=\"https://colab.research.google.com/assets/colab-badge.svg\" alt=\"Open In Colab\"/></a>"
      ]
    },
    {
      "cell_type": "markdown",
      "source": [
        "## Lista"
      ],
      "metadata": {
        "id": "EGeP2vIB82BW"
      }
    },
    {
      "cell_type": "code",
      "execution_count": null,
      "metadata": {
        "id": "mfCRpyn73IY1",
        "colab": {
          "base_uri": "https://localhost:8080/"
        },
        "outputId": "b414b33b-681b-47c9-9414-8d7975347b8f"
      },
      "outputs": [
        {
          "output_type": "stream",
          "name": "stdout",
          "text": [
            "[]\n",
            "[]\n"
          ]
        }
      ],
      "source": [
        "lista_vazia = []\n",
        "segunda_lista_vazia = list()\n",
        "print(lista_vazia)\n",
        "print(segunda_lista_vazia)"
      ]
    },
    {
      "cell_type": "code",
      "source": [
        "meses = ['janeiro', 'fevereiro','março','abril','maio','junho']\n",
        "print(meses)"
      ],
      "metadata": {
        "id": "i_5oJcFw3XRX",
        "colab": {
          "base_uri": "https://localhost:8080/"
        },
        "outputId": "77082f89-23c5-4d9a-ff17-cfe255b5aa5b"
      },
      "execution_count": null,
      "outputs": [
        {
          "output_type": "stream",
          "name": "stdout",
          "text": [
            "['janeiro', 'fevereiro', 'março', 'abril', 'maio', 'junho']\n"
          ]
        }
      ]
    },
    {
      "cell_type": "code",
      "source": [
        "meses = ['janeiro', 'fevereiro','março','abril','maio','junho']\n",
        "print(meses[1]) #fevereiro\n",
        "print(meses[5])"
      ],
      "metadata": {
        "id": "wU28jgl03ZnS"
      },
      "execution_count": null,
      "outputs": []
    },
    {
      "cell_type": "code",
      "source": [
        "len(meses)"
      ],
      "metadata": {
        "id": "BFJUETOG3h20",
        "colab": {
          "base_uri": "https://localhost:8080/"
        },
        "outputId": "d6310307-5ead-4b2a-f5d6-82fcbec35098"
      },
      "execution_count": null,
      "outputs": [
        {
          "output_type": "execute_result",
          "data": {
            "text/plain": [
              "6"
            ]
          },
          "metadata": {},
          "execution_count": 4
        }
      ]
    },
    {
      "cell_type": "code",
      "source": [
        "meses[5] = 'dezembro'\n",
        "print(meses)"
      ],
      "metadata": {
        "id": "D0XUGu0Q3iuc",
        "colab": {
          "base_uri": "https://localhost:8080/"
        },
        "outputId": "a26b8a9f-e20e-4585-e87b-8a9ca20bd254"
      },
      "execution_count": null,
      "outputs": [
        {
          "output_type": "stream",
          "name": "stdout",
          "text": [
            "['janeiro', 'fevereiro', 'março', 'abril', 'maio', 'dezembro']\n"
          ]
        }
      ]
    },
    {
      "cell_type": "code",
      "source": [
        "meses = 'novembro' #sobrescreve toda a lista\n",
        "print(meses)"
      ],
      "metadata": {
        "id": "OGcl4Uq53tS7",
        "colab": {
          "base_uri": "https://localhost:8080/"
        },
        "outputId": "29dd51bd-aad4-431f-fa3d-19c9a2e1dcbf"
      },
      "execution_count": null,
      "outputs": [
        {
          "output_type": "stream",
          "name": "stdout",
          "text": [
            "novembro\n"
          ]
        }
      ]
    },
    {
      "cell_type": "code",
      "source": [
        "meses = ['janeiro', 'fevereiro','março','abril','maio','junho']\n",
        "meses.append('julho')\n",
        "print(meses)"
      ],
      "metadata": {
        "id": "tuqJyyH83zHM",
        "colab": {
          "base_uri": "https://localhost:8080/"
        },
        "outputId": "437aea7a-9db0-4d31-a38b-2a6758fd22df"
      },
      "execution_count": null,
      "outputs": [
        {
          "output_type": "stream",
          "name": "stdout",
          "text": [
            "['janeiro', 'fevereiro', 'março', 'abril', 'maio', 'junho', 'julho']\n"
          ]
        }
      ]
    },
    {
      "cell_type": "code",
      "source": [
        "meses = ['janeiro', 'fevereiro','março','abril','maio','junho']\n",
        "meses.append(['julho','agosto']) #insere uma sublista\n",
        "print(meses)"
      ],
      "metadata": {
        "id": "NGiHEilX367T",
        "colab": {
          "base_uri": "https://localhost:8080/"
        },
        "outputId": "0cbd337f-ce12-4b92-e40f-286333c0a5d3"
      },
      "execution_count": null,
      "outputs": [
        {
          "output_type": "stream",
          "name": "stdout",
          "text": [
            "['janeiro', 'fevereiro', 'março', 'abril', 'maio', 'junho', ['julho', 'agosto']]\n"
          ]
        }
      ]
    },
    {
      "cell_type": "code",
      "source": [
        "meses.insert(2,'julho')\n",
        "print(meses)"
      ],
      "metadata": {
        "id": "yUbUIQSM4Bd-"
      },
      "execution_count": null,
      "outputs": []
    },
    {
      "cell_type": "code",
      "source": [
        "meses = ['janeiro', 'fevereiro','março','abril','maio','junho']\n",
        "meses2 = ['julho', 'agosto']\n",
        "meses.extend(meses2) #inserindo mais de um item a lista\n",
        "print(meses)\n"
      ],
      "metadata": {
        "id": "9uOIp0fG4EFe",
        "colab": {
          "base_uri": "https://localhost:8080/",
          "height": 52
        },
        "outputId": "cae9ad56-50d5-4dcf-853e-e8c30411d2bf"
      },
      "execution_count": null,
      "outputs": [
        {
          "output_type": "stream",
          "name": "stdout",
          "text": [
            "['janeiro', 'fevereiro', 'março', 'abril', 'maio', 'junho', 'julho', 'agosto']\n"
          ]
        },
        {
          "output_type": "execute_result",
          "data": {
            "text/plain": [
              "'\\nmeses += meses2 # outra forma de inserir mais de um item a lista\\nprint(meses)\\n'"
            ],
            "application/vnd.google.colaboratory.intrinsic+json": {
              "type": "string"
            }
          },
          "metadata": {},
          "execution_count": 9
        }
      ]
    },
    {
      "cell_type": "code",
      "source": [
        "meses += meses2 # outra forma de inserir mais de um item a lista\n",
        "print(meses)"
      ],
      "metadata": {
        "colab": {
          "base_uri": "https://localhost:8080/"
        },
        "id": "O-qBzOtaVCtF",
        "outputId": "cfb5e863-2837-4973-e2a5-1ab6048f0810"
      },
      "execution_count": null,
      "outputs": [
        {
          "output_type": "stream",
          "name": "stdout",
          "text": [
            "['janeiro', 'fevereiro', 'março', 'abril', 'maio', 'junho', 'julho', 'agosto', 'julho', 'agosto']\n"
          ]
        }
      ]
    },
    {
      "cell_type": "code",
      "source": [
        "meses = ['janeiro', 'fevereiro','março','abril','maio','junho']\n",
        "meses.pop() #exclui o ultime elemento\n",
        "meses.pop(3) #exclui o elemento de index 3\n",
        "print(meses)"
      ],
      "metadata": {
        "colab": {
          "base_uri": "https://localhost:8080/"
        },
        "id": "3uV3M5GR4Zvu",
        "outputId": "17099ec5-64c2-46e3-eafe-7337cba4a723"
      },
      "execution_count": null,
      "outputs": [
        {
          "output_type": "stream",
          "name": "stdout",
          "text": [
            "['janeiro', 'fevereiro', 'março', 'maio']\n"
          ]
        }
      ]
    },
    {
      "cell_type": "code",
      "source": [
        "meses = ['janeiro', 'fevereiro','março','abril','maio','junho']\n",
        "meses.remove('janeiro') #remove por meio de uma busca de elemento\n",
        "print(meses)"
      ],
      "metadata": {
        "id": "lAZojd4R4o_W"
      },
      "execution_count": null,
      "outputs": []
    },
    {
      "cell_type": "code",
      "source": [
        "meses = ['janeiro', 'fevereiro','março','abril','maio','junho']\n",
        "del meses[3] #remove por meio do index\n",
        "print(meses)"
      ],
      "metadata": {
        "id": "PJA4k2oC4vat"
      },
      "execution_count": null,
      "outputs": []
    },
    {
      "cell_type": "code",
      "source": [
        "meses = ['janeiro', 'fevereiro','março','abril','maio','junho']\n",
        "'abril' in meses\n",
        "'agosto' in meses\n"
      ],
      "metadata": {
        "colab": {
          "base_uri": "https://localhost:8080/"
        },
        "id": "oV6OIWLh40bC",
        "outputId": "b07048a6-4e6f-4ec0-c853-056dce05ad73"
      },
      "execution_count": null,
      "outputs": [
        {
          "output_type": "execute_result",
          "data": {
            "text/plain": [
              "False"
            ]
          },
          "metadata": {},
          "execution_count": 1
        }
      ]
    },
    {
      "cell_type": "code",
      "source": [
        "meses = ['janeiro', 'fevereiro','março','abril','maio','junho']\n",
        "\n",
        "nome = 'abril'\n",
        "if (nome in meses):\n",
        "  meses.remove(nome)\n",
        "meses"
      ],
      "metadata": {
        "colab": {
          "base_uri": "https://localhost:8080/"
        },
        "id": "KfUqBMA0ZWrL",
        "outputId": "a2c905e2-9872-4158-80bd-62c8693226e8"
      },
      "execution_count": null,
      "outputs": [
        {
          "output_type": "execute_result",
          "data": {
            "text/plain": [
              "['janeiro', 'fevereiro', 'março', 'maio', 'junho']"
            ]
          },
          "metadata": {},
          "execution_count": 12
        }
      ]
    },
    {
      "cell_type": "code",
      "source": [
        "meses = ['janeiro', 'fevereiro','março','abril','maio','junho']\n",
        "meses.count('janeiro')"
      ],
      "metadata": {
        "colab": {
          "base_uri": "https://localhost:8080/"
        },
        "id": "HnVMEXA05HG7",
        "outputId": "865499a9-a971-49e0-c87e-2a577694aef7"
      },
      "execution_count": null,
      "outputs": [
        {
          "output_type": "execute_result",
          "data": {
            "text/plain": [
              "1"
            ]
          },
          "metadata": {},
          "execution_count": 16
        }
      ]
    },
    {
      "cell_type": "code",
      "source": [
        "meses = ['janeiro', 'fevereiro','março','abril','maio','junho']\n",
        "separador = ';'\n",
        "meses_juntos = separador.join(meses)\n",
        "print(meses_juntos)\n",
        "meses_separados = meses_juntos.split(separador)\n",
        "print(meses_separados)"
      ],
      "metadata": {
        "id": "4pbos4sz62o1",
        "colab": {
          "base_uri": "https://localhost:8080/"
        },
        "outputId": "ef117d32-50fe-456b-95b9-e2121c94cb46"
      },
      "execution_count": null,
      "outputs": [
        {
          "output_type": "stream",
          "name": "stdout",
          "text": [
            "janeiro;fevereiro;março;abril;maio;junho\n",
            "['janeiro', 'fevereiro', 'março', 'abril', 'maio', 'junho']\n"
          ]
        }
      ]
    },
    {
      "cell_type": "code",
      "source": [
        "meses = ['janeiro', 'fevereiro','março','abril','maio','junho']\n",
        "sorted_meses = sorted(meses) #uma copia da lista ordenada \n",
        "print(sorted_meses)\n",
        "meses"
      ],
      "metadata": {
        "id": "smEvrOCB69Fb",
        "colab": {
          "base_uri": "https://localhost:8080/"
        },
        "outputId": "a77cdb2a-a6f3-4aa0-bbd8-cb3ad9437fdc"
      },
      "execution_count": null,
      "outputs": [
        {
          "output_type": "stream",
          "name": "stdout",
          "text": [
            "['abril', 'fevereiro', 'janeiro', 'junho', 'maio', 'março']\n"
          ]
        },
        {
          "output_type": "execute_result",
          "data": {
            "text/plain": [
              "['janeiro', 'fevereiro', 'março', 'abril', 'maio', 'junho']"
            ]
          },
          "metadata": {},
          "execution_count": 17
        }
      ]
    },
    {
      "cell_type": "code",
      "source": [
        "meses = ['janeiro', 'fevereiro','março','abril','maio','junho']\n",
        "meses.sort()\n",
        "print(meses)"
      ],
      "metadata": {
        "id": "EvwqzYoM7CY8",
        "colab": {
          "base_uri": "https://localhost:8080/"
        },
        "outputId": "cfb00b25-959e-4add-e313-a8c285091c4b"
      },
      "execution_count": null,
      "outputs": [
        {
          "output_type": "stream",
          "name": "stdout",
          "text": [
            "['abril', 'fevereiro', 'janeiro', 'junho', 'maio', 'março']\n"
          ]
        }
      ]
    },
    {
      "cell_type": "code",
      "source": [
        "meses = ['janeiro', 'fevereiro','março','abril','maio','junho']\n",
        "meses.sort(reverse=True)\n",
        "print(meses)"
      ],
      "metadata": {
        "colab": {
          "base_uri": "https://localhost:8080/"
        },
        "id": "hegrKTdd7HW6",
        "outputId": "2124911f-d2e0-4113-963f-e045c8abdc86"
      },
      "execution_count": null,
      "outputs": [
        {
          "output_type": "stream",
          "name": "stdout",
          "text": [
            "['março', 'maio', 'junho', 'janeiro', 'fevereiro', 'abril']\n"
          ]
        }
      ]
    },
    {
      "cell_type": "code",
      "source": [
        "lt_numero = [40, 3, 4, 60, 7, 19] # 3 4 7 19 40 60\n",
        "\n",
        "for i in range(len(lt_numero)):\n",
        "  for j in range(len(lt_numero)-1):\n",
        "    if lt_numero[j] < lt_numero[j+1]:\n",
        "      aux =  lt_numero[j]\n",
        "      lt_numero[j] = lt_numero[j+1]\n",
        "      lt_numero[j+1] = aux\n",
        "\n",
        "print(lt_numero)"
      ],
      "metadata": {
        "id": "QCs_mmXEeUa_",
        "colab": {
          "base_uri": "https://localhost:8080/"
        },
        "outputId": "a0be2db2-7615-4f67-ad8d-6ae6909b1bf9"
      },
      "execution_count": null,
      "outputs": [
        {
          "output_type": "stream",
          "name": "stdout",
          "text": [
            "[60, 40, 19, 7, 4, 3]\n"
          ]
        }
      ]
    },
    {
      "cell_type": "code",
      "source": [
        "meses = ['janeiro', 'fevereiro','março','abril','maio','junho','julho']\n",
        "print(meses[2:4])"
      ],
      "metadata": {
        "id": "qJIvHIts7bYy",
        "colab": {
          "base_uri": "https://localhost:8080/"
        },
        "outputId": "c1f2214f-7b29-453c-9867-ad15f3eef59a"
      },
      "execution_count": null,
      "outputs": [
        {
          "output_type": "stream",
          "name": "stdout",
          "text": [
            "['março', 'abril']\n"
          ]
        }
      ]
    },
    {
      "cell_type": "code",
      "source": [
        "numeros = [21 ,22 ,23 ,24 ,25 ,26 ,27 ,28 ,29 ,30 ,31 ,32]\n",
        "print(numeros[1:9:2])"
      ],
      "metadata": {
        "id": "jIABgTb17dQX",
        "colab": {
          "base_uri": "https://localhost:8080/"
        },
        "outputId": "2c468bdc-a9ca-4955-af08-b9a1a1c5db47"
      },
      "execution_count": null,
      "outputs": [
        {
          "output_type": "stream",
          "name": "stdout",
          "text": [
            "[22, 24, 26, 28]\n"
          ]
        }
      ]
    },
    {
      "cell_type": "code",
      "source": [
        "meses = ['janeiro', 'fevereiro','março','abril','maio','junho','julho']\n",
        "print(meses[2:4]) #começa em 2 e para 4-1\n",
        "print(meses[2:])  #começa em 2 e imprime o restante da lista\n",
        "print(meses[:4])  #imprime todos os valores anteriores a 4-1\n",
        "print(meses[:])   #uma cópia da lista\n",
        "print(meses[::-1])#uma cópia invertida da lista\n",
        "print(meses[-1])  #último elemento da lista\n",
        "print(meses[-2:]) #dois últimos elementos da lista\n",
        "print(meses[:-2]) #imprime tudo, exceto os dois últimos valores da lista\n",
        "print(meses[::2]) #imprimindo com step=2"
      ],
      "metadata": {
        "id": "3ydKgp4W8Fcu"
      },
      "execution_count": null,
      "outputs": []
    },
    {
      "cell_type": "code",
      "source": [
        "numeros = [1,2,3,4]\n",
        "for numero in numeros:\n",
        "  print(numero**2)"
      ],
      "metadata": {
        "id": "AMZqy1Z48ZIm"
      },
      "execution_count": null,
      "outputs": []
    },
    {
      "cell_type": "code",
      "source": [
        "numeros = [1,2,3,4]\n",
        "[numero**2 for numero in numeros]"
      ],
      "metadata": {
        "colab": {
          "base_uri": "https://localhost:8080/"
        },
        "id": "I5jrvF748bSX",
        "outputId": "4829e43a-4af4-4dbc-9132-751deac5d778"
      },
      "execution_count": null,
      "outputs": [
        {
          "output_type": "execute_result",
          "data": {
            "text/plain": [
              "[1, 4, 9, 16]"
            ]
          },
          "metadata": {},
          "execution_count": 7
        }
      ]
    },
    {
      "cell_type": "code",
      "source": [
        "meses = ['janeiro', 'fevereiro','março','abril','maio','junho']\n",
        "semestre = [print(mes+' é o mês do seu aniversário!') if mes == 'abril' else print(mes) for mes in meses] "
      ],
      "metadata": {
        "colab": {
          "base_uri": "https://localhost:8080/"
        },
        "id": "Ju9hi5lw8lNU",
        "outputId": "1aa05082-a343-4d88-b264-7221848671ec"
      },
      "execution_count": null,
      "outputs": [
        {
          "output_type": "stream",
          "name": "stdout",
          "text": [
            "janeiro\n",
            "fevereiro\n",
            "março\n",
            "abril é o mês do seu aniversário!\n",
            "maio\n",
            "junho\n"
          ]
        }
      ]
    },
    {
      "cell_type": "markdown",
      "source": [
        "## Dicionário"
      ],
      "metadata": {
        "id": "opBoYOQ586Gw"
      }
    },
    {
      "cell_type": "code",
      "source": [
        "preco_frutas = {'pera':'Estava mais cara que o normal...', #Inicializando o dicionário somente com strings\n",
        "                'uva': 'Estava bem conta!',\n",
        "                'maçã': 'Não tinha...!'}\n",
        "numero_frutas = {1: 1, 2:1, 3:0} #Somente com inteiros\n",
        "frutas = {'pera': 50, 'uva': 2, 'maçã':55, 'abacaxi': 25, 'manga':''} #Misturando os dois tipos\n",
        "print(preco_frutas)\n",
        "print(numero_frutas)\n",
        "print(frutas)"
      ],
      "metadata": {
        "id": "os5SHaWt883R"
      },
      "execution_count": null,
      "outputs": []
    },
    {
      "cell_type": "code",
      "source": [
        "frutas = {'pera': 50, 'uva': 2, 'maçã':55, 'abacaxi': 25}\n",
        "print(frutas['pera'])\n",
        "print(frutas['uva'])\n",
        "qtd_macas = frutas.get('maçã')\n",
        "print('O Total de maçãs é: ',qtd_macas)\n",
        "print('O Total de maçãs é: ',frutas.get('maçã'))"
      ],
      "metadata": {
        "id": "vy8m55mW9JdE"
      },
      "execution_count": null,
      "outputs": []
    },
    {
      "cell_type": "code",
      "source": [
        "frutas['laranja'] = 0\n",
        "frutas['abacate'] = 33\n",
        "frutas['abacate'] = 'Comprar dois...' \n",
        "frutas"
      ],
      "metadata": {
        "id": "CkXCn89Q9Z7Z"
      },
      "execution_count": null,
      "outputs": []
    },
    {
      "cell_type": "code",
      "source": [
        "print(frutas)\n",
        "del frutas['abacate']\n",
        "print(frutas)\n",
        "teste = {'um':1}\n",
        "print(teste)\n",
        "del teste\n",
        "print(teste)"
      ],
      "metadata": {
        "id": "86geBMK_9b3Q"
      },
      "execution_count": null,
      "outputs": []
    },
    {
      "cell_type": "code",
      "source": [
        "cesta_frutas = {'pera':10, 'uva':2, 'maça':55, 'abacaxi':25, 'laranja':15}\n",
        "print(cesta_frutas)\n",
        "cesta_frutas.clear()\n",
        "print(cesta_frutas)\n",
        "cesta_frutas = {}"
      ],
      "metadata": {
        "id": "QMjbyHOI9pv4"
      },
      "execution_count": null,
      "outputs": []
    },
    {
      "cell_type": "code",
      "source": [
        "print(preco_frutas)\n",
        "preco_frutas.popitem()\n",
        "print(preco_frutas)"
      ],
      "metadata": {
        "id": "i9uOnmYP9y6W"
      },
      "execution_count": null,
      "outputs": []
    },
    {
      "cell_type": "code",
      "source": [
        "cesta_frutas = {'pera':10, 'uva':2, 'maça':55, 'abacaxi':25, 'laranja':15}\n",
        "#print(cesta_frutas)\n",
        "print(cesta_frutas.items())"
      ],
      "metadata": {
        "colab": {
          "base_uri": "https://localhost:8080/"
        },
        "id": "yL1Luk7ZCigh",
        "outputId": "b4d3b3af-69e8-47f4-8d5c-002d5510ec22"
      },
      "execution_count": null,
      "outputs": [
        {
          "output_type": "stream",
          "name": "stdout",
          "text": [
            "dict_items([('pera', 10), ('uva', 2), ('maça', 55), ('abacaxi', 25), ('laranja', 15)])\n"
          ]
        }
      ]
    },
    {
      "cell_type": "code",
      "source": [
        "for fruta, qtd in cesta_frutas.items():\n",
        "  print(fruta +\": \"+str(qtd))"
      ],
      "metadata": {
        "colab": {
          "base_uri": "https://localhost:8080/"
        },
        "id": "fDDJ6SFlCsom",
        "outputId": "02265043-b731-4b3a-b371-166875d796c2"
      },
      "execution_count": null,
      "outputs": [
        {
          "output_type": "stream",
          "name": "stdout",
          "text": [
            "pera: 10\n",
            "uva: 2\n",
            "maça: 55\n",
            "abacaxi: 25\n",
            "laranja: 15\n"
          ]
        }
      ]
    },
    {
      "cell_type": "code",
      "source": [
        "print(cesta_frutas.keys())"
      ],
      "metadata": {
        "id": "P_GJF0OQCxQV"
      },
      "execution_count": null,
      "outputs": []
    },
    {
      "cell_type": "code",
      "source": [
        "for fruta in cesta_frutas.keys():\n",
        "  print(fruta)"
      ],
      "metadata": {
        "colab": {
          "base_uri": "https://localhost:8080/"
        },
        "id": "4aet5j4RCzD6",
        "outputId": "705c83d2-5268-4e9d-b5ed-57b090a6a552"
      },
      "execution_count": null,
      "outputs": [
        {
          "output_type": "stream",
          "name": "stdout",
          "text": [
            "pera\n",
            "uva\n",
            "maça\n",
            "abacaxi\n",
            "laranja\n"
          ]
        }
      ]
    },
    {
      "cell_type": "code",
      "source": [
        "print(cesta_frutas.values())\n",
        "for fruta in cesta_frutas.values():\n",
        "  print(fruta)"
      ],
      "metadata": {
        "id": "m5C6WgdkC4Nq"
      },
      "execution_count": null,
      "outputs": []
    },
    {
      "cell_type": "code",
      "source": [
        "sorted(cesta_frutas.keys())\n",
        "for fruta in sorted(cesta_frutas.keys()):\n",
        "  print(fruta)"
      ],
      "metadata": {
        "id": "wkKerVLuC9ck"
      },
      "execution_count": null,
      "outputs": []
    },
    {
      "cell_type": "code",
      "source": [
        "for i, fruta in enumerate(cesta_frutas):\n",
        "  print(i, fruta)"
      ],
      "metadata": {
        "id": "U6h1UVPMDEKY"
      },
      "execution_count": null,
      "outputs": []
    },
    {
      "cell_type": "code",
      "source": [
        "print(len(cesta_frutas))\n"
      ],
      "metadata": {
        "id": "D7I_fICzDMFN"
      },
      "execution_count": null,
      "outputs": []
    },
    {
      "cell_type": "code",
      "source": [
        "compras = []\n",
        "frutas = {\n",
        "            'pera': 50, \n",
        "            'uva': 2, \n",
        "            'maçã':55, \n",
        "            'abacaxi': 25\n",
        "            }\n",
        "compras.append(frutas)\n",
        "legumes = {\n",
        "            'cenoura': 3,\n",
        "            'tomate': 5,\n",
        "            'alface': 2\n",
        "            }\n",
        "compras.append(legumes)\n",
        "\n",
        "for compra in compras:\n",
        "    for k, v in compra.items():\n",
        "        print(k +\": \" +str(v))"
      ],
      "metadata": {
        "id": "GuBBXz0nDQDi"
      },
      "execution_count": null,
      "outputs": []
    },
    {
      "cell_type": "code",
      "source": [
        "compras = [\n",
        "            {\n",
        "            'pera': 50, \n",
        "            'uva': 2, \n",
        "            'maçã':55, \n",
        "            'abacaxi': 25\n",
        "            },\n",
        "            {\n",
        "            'cenoura': 3,\n",
        "            'tomate': 5,\n",
        "            'alface': 2\n",
        "            },]\n",
        "\n",
        "for compra in compras:\n",
        "    for k, v in compra.items():\n",
        "        print(k +\": \" +str(v))"
      ],
      "metadata": {
        "id": "18Dslmj5DXDI"
      },
      "execution_count": null,
      "outputs": []
    },
    {
      "cell_type": "code",
      "source": [
        "frutas = {\n",
        "            'pera': [50, 10, 20],\n",
        "            'uva':  [2, 1], \n",
        "            'maçã': [55, 10, 15],\n",
        "            'abacaxi': [25, 8],\n",
        "            }\n",
        "\n",
        "for fruta, qtds in frutas.items():\n",
        "  print(fruta +\": \")\n",
        "  for qtd in qtds:\n",
        "    print(\"= \" + str(qtd))"
      ],
      "metadata": {
        "id": "CvIc5urdDdqh"
      },
      "execution_count": null,
      "outputs": []
    },
    {
      "cell_type": "code",
      "source": [
        "compras = {\n",
        "            'frutas_joao': {\n",
        "            'pera': 50, \n",
        "            'uva': 2, \n",
        "            'maçã':55, \n",
        "            'abacaxi': 25,\n",
        "            },\n",
        "           'frutas_maria': {\n",
        "            'pera': 40, \n",
        "            'uva': 3, \n",
        "            'maçã':35, \n",
        "            'abacaxi': 15,\n",
        "            },}\n",
        "for tipo, tipo2 in compras.items():\n",
        "    print('\\nTipo do item: '+ tipo)\n",
        "    tudo_qtd = 'pera: '+str(tipo2['pera']) + \" \"\n",
        "    tudo_qtd += 'uva: '+str(tipo2['uva']) + \" \"\n",
        "    tudo_qtd += 'maçã: '+str(tipo2['maçã']) + \" \"\n",
        "    tudo_qtd += 'abacaxi: '+str(tipo2['abacaxi'])\n",
        "    \n",
        "    print('Quantidade de itens comprados: '+tudo_qtd.title())"
      ],
      "metadata": {
        "id": "sYaJxD4GDom1"
      },
      "execution_count": null,
      "outputs": []
    }
  ]
}
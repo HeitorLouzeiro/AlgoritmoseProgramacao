{
  "cells": [
    {
      "cell_type": "markdown",
      "metadata": {
        "id": "view-in-github",
        "colab_type": "text"
      },
      "source": [
        "<a href=\"https://colab.research.google.com/github/fgsantosti/AlgoritmoseProgramacao/blob/master/String_Python.ipynb\" target=\"_parent\"><img src=\"https://colab.research.google.com/assets/colab-badge.svg\" alt=\"Open In Colab\"/></a>"
      ]
    },
    {
      "cell_type": "markdown",
      "metadata": {
        "id": "NqGpAI2PD9K-"
      },
      "source": [
        "### Alteração de uma string"
      ]
    },
    {
      "cell_type": "code",
      "execution_count": null,
      "metadata": {
        "colab": {
          "base_uri": "https://localhost:8080/"
        },
        "id": "5AqclsJaD5jY",
        "outputId": "bbc44b43-27cd-4c7d-e3dc-af0daf3b0b3a"
      },
      "outputs": [
        {
          "name": "stdout",
          "output_type": "stream",
          "text": [
            "alô alunos do ADS\n"
          ]
        }
      ],
      "source": [
        "S=\"alô alunos do ADS\"\n",
        "print(S)"
      ]
    },
    {
      "cell_type": "code",
      "execution_count": null,
      "metadata": {
        "colab": {
          "base_uri": "https://localhost:8080/"
        },
        "id": "A7ipkq2cEOm2",
        "outputId": "cd40b1b9-a4b4-4491-fa23-75105c4a5273"
      },
      "outputs": [
        {
          "name": "stdout",
          "output_type": "stream",
          "text": [
            "a\n"
          ]
        }
      ],
      "source": [
        "print(S[0])"
      ]
    },
    {
      "cell_type": "code",
      "execution_count": null,
      "metadata": {
        "colab": {
          "base_uri": "https://localhost:8080/",
          "height": 166
        },
        "id": "fHfdNTRpD5bo",
        "outputId": "c727281e-74ad-4cd7-dee4-4259bedb6c66"
      },
      "outputs": [
        {
          "ename": "TypeError",
          "evalue": "ignored",
          "output_type": "error",
          "traceback": [
            "\u001b[0;31m---------------------------------------------------------------------------\u001b[0m",
            "\u001b[0;31mTypeError\u001b[0m                                 Traceback (most recent call last)",
            "\u001b[0;32m<ipython-input-3-f2fb6284c5cf>\u001b[0m in \u001b[0;36m<module>\u001b[0;34m()\u001b[0m\n\u001b[0;32m----> 1\u001b[0;31m \u001b[0mS\u001b[0m\u001b[0;34m[\u001b[0m\u001b[0;36m0\u001b[0m\u001b[0;34m]\u001b[0m\u001b[0;34m=\u001b[0m\u001b[0;34m'A'\u001b[0m\u001b[0;34m\u001b[0m\u001b[0;34m\u001b[0m\u001b[0m\n\u001b[0m",
            "\u001b[0;31mTypeError\u001b[0m: 'str' object does not support item assignment"
          ]
        }
      ],
      "source": [
        "S[0]='A'"
      ]
    },
    {
      "cell_type": "code",
      "execution_count": null,
      "metadata": {
        "colab": {
          "base_uri": "https://localhost:8080/"
        },
        "id": "T8zl6A5JD5Og",
        "outputId": "83503977-55e1-470a-f8b9-8d759c9e900d"
      },
      "outputs": [
        {
          "data": {
            "text/plain": [
              "list"
            ]
          },
          "execution_count": 4,
          "metadata": {},
          "output_type": "execute_result"
        }
      ],
      "source": [
        "texto=list(\"alô alunos do ADS\")\n",
        "type(texto)"
      ]
    },
    {
      "cell_type": "code",
      "execution_count": null,
      "metadata": {
        "colab": {
          "base_uri": "https://localhost:8080/"
        },
        "id": "zqNRFINoD5AA",
        "outputId": "326ea71a-7c7f-4800-f97e-d2ea9c3ae086"
      },
      "outputs": [
        {
          "name": "stdout",
          "output_type": "stream",
          "text": [
            "['A', 'l', 'ô', ' ', 'a', 'l', 'u', 'n', 'o', 's', ' ', 'd', 'o', ' ', 'A', 'D', 'S']\n"
          ]
        }
      ],
      "source": [
        "texto[0]='A'\n",
        "print(texto)"
      ]
    },
    {
      "cell_type": "code",
      "execution_count": null,
      "metadata": {
        "colab": {
          "base_uri": "https://localhost:8080/"
        },
        "id": "HUxjiDPUE4vx",
        "outputId": "8173d32b-d651-45e4-9c47-9f94d451ed79"
      },
      "outputs": [
        {
          "name": "stdout",
          "output_type": "stream",
          "text": [
            "Alô alunos do ADS\n"
          ]
        }
      ],
      "source": [
        "texto_j=''.join(texto)\n",
        "print(texto_j)"
      ]
    },
    {
      "cell_type": "markdown",
      "metadata": {
        "id": "Pk90ibLCFWpN"
      },
      "source": [
        "A função `list` transforma cada caractere da string em um elemento da lista retornada. Já o método `join` faz a operação inversa, transformando os elementos\n",
        "da lista em string."
      ]
    },
    {
      "cell_type": "markdown",
      "metadata": {
        "id": "kGKG4NgMHb1P"
      },
      "source": [
        "### Verificação parcial de string\n",
        "\n",
        "os métodos `startswith` e `endswith`. Esses métodos verificam apenas os primeiros (`startswith`) ou os últimos (`endswith`) caracteres da string,\n",
        "retornando `True` caso sejam iguais ou `False`"
      ]
    },
    {
      "cell_type": "code",
      "execution_count": null,
      "metadata": {
        "id": "DtKoZ1aRHr3j"
      },
      "outputs": [],
      "source": [
        "nome = 'ADS é o melhor curso para entrar no mercado de trabalho hoje.'\n",
        "nome.startswith('ADS')"
      ]
    },
    {
      "cell_type": "code",
      "execution_count": null,
      "metadata": {
        "colab": {
          "background_save": true
        },
        "id": "mYDKzgn5IPr5",
        "outputId": "80384acc-7041-4d4b-c345-76cd7419504e"
      },
      "outputs": [
        {
          "data": {
            "text/plain": [
              "False"
            ]
          },
          "execution_count": null,
          "metadata": {},
          "output_type": "execute_result"
        }
      ],
      "source": [
        "nome.endswith('hoje')"
      ]
    },
    {
      "cell_type": "code",
      "execution_count": null,
      "metadata": {
        "colab": {
          "base_uri": "https://localhost:8080/"
        },
        "id": "uGI1ckv6IF7b",
        "outputId": "cc9430da-8892-4052-f4bc-b6840c012819"
      },
      "outputs": [
        {
          "data": {
            "text/plain": [
              "True"
            ]
          },
          "execution_count": 15,
          "metadata": {},
          "output_type": "execute_result"
        }
      ],
      "source": [
        "nome.endswith('hoje.')"
      ]
    },
    {
      "cell_type": "markdown",
      "metadata": {
        "id": "GwUET8_5IWXw"
      },
      "source": [
        "`startswith` e `endswith` consideram letras maiúsculas e minúsculas como letras diferentes."
      ]
    },
    {
      "cell_type": "markdown",
      "metadata": {
        "id": "d_VQZiJ-I0ml"
      },
      "source": [
        "### Conversão em maiúsculas e minúsculas"
      ]
    },
    {
      "cell_type": "code",
      "execution_count": null,
      "metadata": {
        "colab": {
          "base_uri": "https://localhost:8080/",
          "height": 36
        },
        "id": "AzU3EaWeJDoj",
        "outputId": "eb991b12-a7e3-41c8-9a1d-50320172d787"
      },
      "outputs": [
        {
          "data": {
            "application/vnd.google.colaboratory.intrinsic+json": {
              "type": "string"
            },
            "text/plain": [
              "'o rato roeu a roupa do rei de roma'"
            ]
          },
          "execution_count": 17,
          "metadata": {},
          "output_type": "execute_result"
        }
      ],
      "source": [
        "frase=\"O Rato roeu a roupa do Rei de Roma\"\n",
        "frase.lower()"
      ]
    },
    {
      "cell_type": "code",
      "execution_count": null,
      "metadata": {
        "colab": {
          "base_uri": "https://localhost:8080/",
          "height": 36
        },
        "id": "ht0YBp6YJLLy",
        "outputId": "1a0f5ef1-4ca6-4bf1-bd70-df9636f3461e"
      },
      "outputs": [
        {
          "data": {
            "application/vnd.google.colaboratory.intrinsic+json": {
              "type": "string"
            },
            "text/plain": [
              "'O RATO ROEU A ROUPA DO REI DE ROMA'"
            ]
          },
          "execution_count": 18,
          "metadata": {},
          "output_type": "execute_result"
        }
      ],
      "source": [
        "frase.upper()"
      ]
    },
    {
      "cell_type": "code",
      "execution_count": null,
      "metadata": {
        "colab": {
          "base_uri": "https://localhost:8080/"
        },
        "id": "WUQqHUMTJPYJ",
        "outputId": "7d18dcdc-b3ec-4624-847a-077c898fa3e2"
      },
      "outputs": [
        {
          "data": {
            "text/plain": [
              "True"
            ]
          },
          "execution_count": 19,
          "metadata": {},
          "output_type": "execute_result"
        }
      ],
      "source": [
        "frase.lower().startswith('o rato')"
      ]
    },
    {
      "cell_type": "markdown",
      "metadata": {
        "id": "uIni9Zn0LuQQ"
      },
      "source": [
        "### Pesquisa de palavras em uma string usando `in`\n",
        "\n"
      ]
    },
    {
      "cell_type": "code",
      "execution_count": null,
      "metadata": {
        "id": "8G90x4wsMFh-"
      },
      "outputs": [],
      "source": [
        "texto = 'Marília Dias Mendonça'"
      ]
    },
    {
      "cell_type": "code",
      "execution_count": null,
      "metadata": {
        "colab": {
          "base_uri": "https://localhost:8080/"
        },
        "id": "fu2SEWHmI2u8",
        "outputId": "03e75a73-cc30-416c-e35d-8a55c68d98ec"
      },
      "outputs": [
        {
          "data": {
            "text/plain": [
              "True"
            ]
          },
          "execution_count": 23,
          "metadata": {},
          "output_type": "execute_result"
        }
      ],
      "source": [
        "#verificar se uma palavra pertence a uma string \n",
        "'Marília' in texto #pode ser utilizado 'simples' ou \"dupla\""
      ]
    },
    {
      "cell_type": "code",
      "execution_count": null,
      "metadata": {
        "colab": {
          "base_uri": "https://localhost:8080/"
        },
        "id": "IcENrKI9MHzN",
        "outputId": "0718460e-5254-4197-adf5-ebc91891009a"
      },
      "outputs": [
        {
          "data": {
            "text/plain": [
              "True"
            ]
          },
          "execution_count": 24,
          "metadata": {},
          "output_type": "execute_result"
        }
      ],
      "source": [
        "\"Mendonça\" in texto"
      ]
    },
    {
      "cell_type": "code",
      "execution_count": null,
      "metadata": {
        "colab": {
          "base_uri": "https://localhost:8080/"
        },
        "id": "JzpBU2pjMHwF",
        "outputId": "171b73fa-17d0-45a7-ee89-4b044582f724"
      },
      "outputs": [
        {
          "data": {
            "text/plain": [
              "False"
            ]
          },
          "execution_count": 25,
          "metadata": {},
          "output_type": "execute_result"
        }
      ],
      "source": [
        "'Santos' in texto"
      ]
    },
    {
      "cell_type": "code",
      "execution_count": null,
      "metadata": {
        "colab": {
          "base_uri": "https://localhost:8080/"
        },
        "id": "ebl0obmXMs9R",
        "outputId": "a92d8b75-9ed0-45fb-f408-751f088f8cb3"
      },
      "outputs": [
        {
          "data": {
            "text/plain": [
              "True"
            ]
          },
          "execution_count": 26,
          "metadata": {},
          "output_type": "execute_result"
        }
      ],
      "source": [
        "'lia D' in texto"
      ]
    },
    {
      "cell_type": "code",
      "execution_count": null,
      "metadata": {
        "colab": {
          "base_uri": "https://localhost:8080/"
        },
        "id": "sLAhQtbANA7P",
        "outputId": "2f43a593-c10f-44d2-f048-a240a16f8653"
      },
      "outputs": [
        {
          "data": {
            "text/plain": [
              "False"
            ]
          },
          "execution_count": 27,
          "metadata": {},
          "output_type": "execute_result"
        }
      ],
      "source": [
        "'mendonça' in texto"
      ]
    },
    {
      "cell_type": "markdown",
      "metadata": {
        "id": "r_QTD3ykNOjc"
      },
      "source": [
        "### Pesquisa de palavras em uma string usando `not in`"
      ]
    },
    {
      "cell_type": "code",
      "source": [
        "s=\"Todos os caminhos levam ao curso de ADS\""
      ],
      "metadata": {
        "id": "2nUvBOFezE4I"
      },
      "execution_count": null,
      "outputs": []
    },
    {
      "cell_type": "code",
      "source": [
        "#testar se uma string não está contida em outra\n",
        "\"levam\" not in s"
      ],
      "metadata": {
        "colab": {
          "base_uri": "https://localhost:8080/"
        },
        "id": "p5reuydTzW3W",
        "outputId": "d0b95fba-1e38-472c-e90a-94b93dbb0d46"
      },
      "execution_count": null,
      "outputs": [
        {
          "output_type": "execute_result",
          "data": {
            "text/plain": [
              "False"
            ]
          },
          "metadata": {},
          "execution_count": 4
        }
      ]
    },
    {
      "cell_type": "code",
      "source": [
        "\"Caminhos\" not in s"
      ],
      "metadata": {
        "colab": {
          "base_uri": "https://localhost:8080/"
        },
        "id": "a_0SycaM34Rr",
        "outputId": "64b261c6-1e1b-4269-a3be-b1b099ddc627"
      },
      "execution_count": null,
      "outputs": [
        {
          "output_type": "execute_result",
          "data": {
            "text/plain": [
              "True"
            ]
          },
          "metadata": {},
          "execution_count": 5
        }
      ]
    },
    {
      "cell_type": "markdown",
      "source": [
        "### Contagem "
      ],
      "metadata": {
        "id": "bCYk0jrU4CBK"
      }
    },
    {
      "cell_type": "code",
      "source": [
        "t=\"um tigre, dois tigres, três tigres\"\n",
        "#conta as ocorrências de uma letra ou palavra em uma string\n",
        "t.count(\"tigre\")"
      ],
      "metadata": {
        "colab": {
          "base_uri": "https://localhost:8080/"
        },
        "id": "hPu33lNh4D1S",
        "outputId": "a5a96882-28f2-41c1-c350-67e2aed00237"
      },
      "execution_count": null,
      "outputs": [
        {
          "output_type": "execute_result",
          "data": {
            "text/plain": [
              "3"
            ]
          },
          "metadata": {},
          "execution_count": 6
        }
      ]
    },
    {
      "cell_type": "code",
      "source": [
        "t.count(\"tigres\")"
      ],
      "metadata": {
        "colab": {
          "base_uri": "https://localhost:8080/"
        },
        "id": "jo_eltj74KVZ",
        "outputId": "3b757a44-df50-4d4c-cc3e-9217c28567eb"
      },
      "execution_count": null,
      "outputs": [
        {
          "output_type": "execute_result",
          "data": {
            "text/plain": [
              "2"
            ]
          },
          "metadata": {},
          "execution_count": 7
        }
      ]
    },
    {
      "cell_type": "code",
      "source": [
        "t.count(\"t\")"
      ],
      "metadata": {
        "colab": {
          "base_uri": "https://localhost:8080/"
        },
        "id": "vc0HzJmT4N6g",
        "outputId": "d0422c4b-af73-4322-df57-60eb06294991"
      },
      "execution_count": null,
      "outputs": [
        {
          "output_type": "execute_result",
          "data": {
            "text/plain": [
              "4"
            ]
          },
          "metadata": {},
          "execution_count": 8
        }
      ]
    },
    {
      "cell_type": "markdown",
      "source": [
        "### Pesquisa de strings"
      ],
      "metadata": {
        "id": "1evZ5sQe4uZ8"
      }
    },
    {
      "cell_type": "code",
      "source": [
        "#pesquisar se uma string está dentro de outra e obter a posição da primeira ocorrência"
      ],
      "metadata": {
        "id": "Q0fIq5IN4xA1"
      },
      "execution_count": null,
      "outputs": []
    },
    {
      "cell_type": "code",
      "source": [
        "texto = \"Do ADS para o mundo\"\n",
        "texto.find(\"mundo\")"
      ],
      "metadata": {
        "colab": {
          "base_uri": "https://localhost:8080/"
        },
        "id": "xfi6vp2b5Ami",
        "outputId": "dc0fb61a-fb79-4ca1-f202-b86c0bd389a0"
      },
      "execution_count": null,
      "outputs": [
        {
          "output_type": "execute_result",
          "data": {
            "text/plain": [
              "14"
            ]
          },
          "metadata": {},
          "execution_count": 9
        }
      ]
    },
    {
      "cell_type": "code",
      "source": [
        "#retornará -1 quando a string não for encontrada\n",
        "texto.find('direito')"
      ],
      "metadata": {
        "colab": {
          "base_uri": "https://localhost:8080/"
        },
        "id": "7vBLBRLi5iR-",
        "outputId": "16447299-5576-4294-8d5f-6f8e81076704"
      },
      "execution_count": null,
      "outputs": [
        {
          "output_type": "execute_result",
          "data": {
            "text/plain": [
              "-1"
            ]
          },
          "metadata": {},
          "execution_count": 10
        }
      ]
    },
    {
      "cell_type": "code",
      "source": [
        "txt = \"Mi casa, su casa.\"\n",
        "\n",
        "#txt.rfind(\"casa\", start, end) limitando o início ou o fim da pesquisa"
      ],
      "metadata": {
        "colab": {
          "base_uri": "https://localhost:8080/"
        },
        "id": "bLVmI4ov6uxW",
        "outputId": "e4495699-1033-4d38-e82c-64f361aea885"
      },
      "execution_count": null,
      "outputs": [
        {
          "output_type": "execute_result",
          "data": {
            "text/plain": [
              "-1"
            ]
          },
          "metadata": {},
          "execution_count": 17
        }
      ]
    },
    {
      "cell_type": "code",
      "source": [
        "txt = \"Mi casa, su casa.\"\n",
        "\n",
        "txt.rfind(\"casa\", 0, 17)"
      ],
      "metadata": {
        "colab": {
          "base_uri": "https://localhost:8080/"
        },
        "id": "Qpdol_gZ7LlL",
        "outputId": "c370fdcd-8c43-4a57-f9e8-9bb1a1c5f8bf"
      },
      "execution_count": null,
      "outputs": [
        {
          "output_type": "execute_result",
          "data": {
            "text/plain": [
              "12"
            ]
          },
          "metadata": {},
          "execution_count": 18
        }
      ]
    },
    {
      "cell_type": "code",
      "source": [
        "txt.rfind(\"casa\", 0, 3)"
      ],
      "metadata": {
        "colab": {
          "base_uri": "https://localhost:8080/"
        },
        "id": "sQ1mqA5i7Zy4",
        "outputId": "b8718d2c-5185-41c3-ebea-d68719ce1d32"
      },
      "execution_count": null,
      "outputs": [
        {
          "output_type": "execute_result",
          "data": {
            "text/plain": [
              "-1"
            ]
          },
          "metadata": {},
          "execution_count": 19
        }
      ]
    },
    {
      "cell_type": "markdown",
      "metadata": {
        "id": "1bLx4LWvBrLg"
      },
      "source": [
        "### Pesquisa de todas as ocorrências"
      ]
    },
    {
      "cell_type": "code",
      "execution_count": null,
      "metadata": {
        "colab": {
          "base_uri": "https://localhost:8080/"
        },
        "id": "edCF0Xsy_mGo",
        "outputId": "d2024ec4-d765-4199-cbcb-ab65d72d0270"
      },
      "outputs": [
        {
          "name": "stdout",
          "output_type": "stream",
          "text": [
            "Posição: 3\n",
            "Posição: 15\n",
            "Posição: 28\n"
          ]
        }
      ],
      "source": [
        "s=\"um tigre, dois tigres, três tigres\"\n",
        "p=0\n",
        "while(p>-1):\n",
        "  p=s.find(\"tigre\", p)\n",
        "  if p>=0:\n",
        "    print(\"Posição: %d\" % p)\n",
        "    p+=1"
      ]
    },
    {
      "cell_type": "markdown",
      "source": [
        "### Separação de strings"
      ],
      "metadata": {
        "id": "h5oa3pOtajlH"
      }
    },
    {
      "cell_type": "code",
      "source": [
        "s=\"um tigre, dois tigres, três tigres\"\n",
        "s.split(\",\") #divide a string não é retornado na lista "
      ],
      "metadata": {
        "colab": {
          "base_uri": "https://localhost:8080/"
        },
        "id": "62_qrowyal5O",
        "outputId": "aeb63faa-3f90-4990-99cb-e91a1cbad99a"
      },
      "execution_count": 2,
      "outputs": [
        {
          "output_type": "execute_result",
          "data": {
            "text/plain": [
              "['um tigre', ' dois tigres', ' três tigres']"
            ]
          },
          "metadata": {},
          "execution_count": 2
        }
      ]
    },
    {
      "cell_type": "code",
      "source": [
        "s=\"um tigre, dois tigres, três tigres\"\n",
        "s.split(\" \")"
      ],
      "metadata": {
        "colab": {
          "base_uri": "https://localhost:8080/"
        },
        "id": "a2yMf_g-bCuU",
        "outputId": "732374cc-5eb5-49bc-ec4c-d43c86da10d4"
      },
      "execution_count": 3,
      "outputs": [
        {
          "output_type": "execute_result",
          "data": {
            "text/plain": [
              "['um', 'tigre,', 'dois', 'tigres,', 'três', 'tigres']"
            ]
          },
          "metadata": {},
          "execution_count": 3
        }
      ]
    },
    {
      "cell_type": "code",
      "source": [
        "s=\"um tigre, dois tigres, três tigres\"\n",
        "s.split()"
      ],
      "metadata": {
        "colab": {
          "base_uri": "https://localhost:8080/"
        },
        "id": "mbzgWkQUbHir",
        "outputId": "0ed3f7ca-5366-4222-849e-aad15250917f"
      },
      "execution_count": 4,
      "outputs": [
        {
          "output_type": "execute_result",
          "data": {
            "text/plain": [
              "['um', 'tigre,', 'dois', 'tigres,', 'três', 'tigres']"
            ]
          },
          "metadata": {},
          "execution_count": 4
        }
      ]
    },
    {
      "cell_type": "markdown",
      "source": [
        "### Substituição de strings"
      ],
      "metadata": {
        "id": "OPcnvBJUbRcB"
      }
    },
    {
      "cell_type": "code",
      "source": [
        "s=\"um tigre, dois tigres, três tigres\"\n",
        "s.replace(\"tigre\", \"gato\") \n",
        "#o primeiro parâmetro é a string a substituir\n",
        "#o segundo, é o conteúdo que a substituirá "
      ],
      "metadata": {
        "colab": {
          "base_uri": "https://localhost:8080/",
          "height": 36
        },
        "id": "gQOGc3J-bTPh",
        "outputId": "4d4038e0-e860-4ebc-b180-ac4484967811"
      },
      "execution_count": 6,
      "outputs": [
        {
          "output_type": "execute_result",
          "data": {
            "text/plain": [
              "'um gato, dois gatos, três gatos'"
            ],
            "application/vnd.google.colaboratory.intrinsic+json": {
              "type": "string"
            }
          },
          "metadata": {},
          "execution_count": 6
        }
      ]
    },
    {
      "cell_type": "code",
      "source": [
        "s=\"um tigre, dois tigres, três tigres\"\n",
        "s.replace(\"tigre\", \"gato\", 2) #o terceiro parametro é a quantidade de substituições "
      ],
      "metadata": {
        "colab": {
          "base_uri": "https://localhost:8080/",
          "height": 36
        },
        "id": "EHp0SE7VbWHB",
        "outputId": "b3795476-41c5-4e0e-dc82-008ca2b8c1a7"
      },
      "execution_count": 7,
      "outputs": [
        {
          "output_type": "execute_result",
          "data": {
            "text/plain": [
              "'um gato, dois gatos, três tigres'"
            ],
            "application/vnd.google.colaboratory.intrinsic+json": {
              "type": "string"
            }
          },
          "metadata": {},
          "execution_count": 7
        }
      ]
    },
    {
      "cell_type": "markdown",
      "source": [
        "### Remoção de espaços em branco com strip, lstrip e rstrip\n"
      ],
      "metadata": {
        "id": "fyNQshMGcBR0"
      }
    },
    {
      "cell_type": "code",
      "source": [
        "texto = '       Olá galera do ADS'\n",
        "texto.strip()"
      ],
      "metadata": {
        "colab": {
          "base_uri": "https://localhost:8080/",
          "height": 36
        },
        "id": "uPTxnDTzcCvs",
        "outputId": "4c210aa5-7676-4eae-b786-0e52a6de9a77"
      },
      "execution_count": 9,
      "outputs": [
        {
          "output_type": "execute_result",
          "data": {
            "text/plain": [
              "'Olá galera do ADS'"
            ],
            "application/vnd.google.colaboratory.intrinsic+json": {
              "type": "string"
            }
          },
          "metadata": {},
          "execution_count": 9
        }
      ]
    },
    {
      "cell_type": "code",
      "source": [
        "texto = '       Olá galera do ADS'\n",
        "texto.lstrip()"
      ],
      "metadata": {
        "colab": {
          "base_uri": "https://localhost:8080/",
          "height": 36
        },
        "id": "WLKrfLXecO48",
        "outputId": "3910aec4-db71-44cc-d85f-fff8b2a7d371"
      },
      "execution_count": 10,
      "outputs": [
        {
          "output_type": "execute_result",
          "data": {
            "text/plain": [
              "'Olá galera do ADS'"
            ],
            "application/vnd.google.colaboratory.intrinsic+json": {
              "type": "string"
            }
          },
          "metadata": {},
          "execution_count": 10
        }
      ]
    },
    {
      "cell_type": "code",
      "source": [
        "texto = '       Olá galera do ADS'\n",
        "texto.rstrip()"
      ],
      "metadata": {
        "colab": {
          "base_uri": "https://localhost:8080/",
          "height": 36
        },
        "id": "Hyax4DPpcRmr",
        "outputId": "f1a4898b-bc43-428d-b813-27a874956f42"
      },
      "execution_count": 11,
      "outputs": [
        {
          "output_type": "execute_result",
          "data": {
            "text/plain": [
              "'       Olá galera do ADS'"
            ],
            "application/vnd.google.colaboratory.intrinsic+json": {
              "type": "string"
            }
          },
          "metadata": {},
          "execution_count": 11
        }
      ]
    },
    {
      "cell_type": "code",
      "source": [
        "texto = 'adsadsadsadsOlá galera do ADS'\n",
        "texto.strip('ads')"
      ],
      "metadata": {
        "colab": {
          "base_uri": "https://localhost:8080/",
          "height": 36
        },
        "id": "SIhcrV1Hcawp",
        "outputId": "383919a1-f351-49aa-dcb0-91c60190e790"
      },
      "execution_count": 12,
      "outputs": [
        {
          "output_type": "execute_result",
          "data": {
            "text/plain": [
              "'Olá galera do ADS'"
            ],
            "application/vnd.google.colaboratory.intrinsic+json": {
              "type": "string"
            }
          },
          "metadata": {},
          "execution_count": 12
        }
      ]
    },
    {
      "cell_type": "markdown",
      "source": [
        "### Formatação de strings com o método format"
      ],
      "metadata": {
        "id": "pbePp2fqd293"
      }
    },
    {
      "cell_type": "code",
      "source": [
        "\"{0} x {1} R${2}\".format(5,\"maçã\", \"1.20\")"
      ],
      "metadata": {
        "colab": {
          "base_uri": "https://localhost:8080/",
          "height": 36
        },
        "id": "i3NJcHMhd4zN",
        "outputId": "d99051ca-7d4f-4b35-89ef-bae5be6bf703"
      },
      "execution_count": 13,
      "outputs": [
        {
          "output_type": "execute_result",
          "data": {
            "text/plain": [
              "'5 x maçã R$1.20'"
            ],
            "application/vnd.google.colaboratory.intrinsic+json": {
              "type": "string"
            }
          },
          "metadata": {},
          "execution_count": 13
        }
      ]
    },
    {
      "cell_type": "code",
      "source": [
        "\"{0} {1} {0}\".format(\"-\",\"x\") # usando o mesmo paramentro mais de uma vez"
      ],
      "metadata": {
        "colab": {
          "base_uri": "https://localhost:8080/",
          "height": 36
        },
        "id": "lSHVuB-deAc1",
        "outputId": "8c6be5e2-22a7-4cdf-d0a0-ca335333cf7a"
      },
      "execution_count": 15,
      "outputs": [
        {
          "output_type": "execute_result",
          "data": {
            "text/plain": [
              "'- x -'"
            ],
            "application/vnd.google.colaboratory.intrinsic+json": {
              "type": "string"
            }
          },
          "metadata": {},
          "execution_count": 15
        }
      ]
    },
    {
      "cell_type": "code",
      "source": [
        "\"{1} {0}\".format(\"primeiro\", \"segundo\") #alterando a ordem"
      ],
      "metadata": {
        "id": "F4mpuo_neEht"
      },
      "execution_count": null,
      "outputs": []
    },
    {
      "cell_type": "code",
      "source": [
        "#Máscaras com elementos de uma lista\n",
        "\"{0[0]}{0[2]}{0[1]}\".format([\"123\", \"456\", \".\"])"
      ],
      "metadata": {
        "colab": {
          "base_uri": "https://localhost:8080/",
          "height": 36
        },
        "id": "IiUpthVNeb2D",
        "outputId": "f908dc24-2425-4b41-81eb-c6e0af8a7e7c"
      },
      "execution_count": 18,
      "outputs": [
        {
          "output_type": "execute_result",
          "data": {
            "text/plain": [
              "'123.456'"
            ],
            "application/vnd.google.colaboratory.intrinsic+json": {
              "type": "string"
            }
          },
          "metadata": {},
          "execution_count": 18
        }
      ]
    },
    {
      "cell_type": "code",
      "source": [
        "#Máscaras com elementos de um dicionário\n",
        "\"{0[nome]} {0[telefone]}\".format({ \"telefone\": 572, \"nome\":\"Maria\"}) "
      ],
      "metadata": {
        "id": "xj92GpNaeyH4"
      },
      "execution_count": null,
      "outputs": []
    },
    {
      "cell_type": "code",
      "source": [
        "#Formatação de números decimais\n",
        "\"{:f}\".format(1579.543)"
      ],
      "metadata": {
        "colab": {
          "base_uri": "https://localhost:8080/",
          "height": 36
        },
        "id": "myu4XCKVg0Ch",
        "outputId": "db18b17c-8941-4685-d28e-d581ea9813ef"
      },
      "execution_count": 19,
      "outputs": [
        {
          "output_type": "execute_result",
          "data": {
            "text/plain": [
              "'1579.543000'"
            ],
            "application/vnd.google.colaboratory.intrinsic+json": {
              "type": "string"
            }
          },
          "metadata": {},
          "execution_count": 19
        }
      ]
    },
    {
      "cell_type": "code",
      "source": [
        "\"{:n}\".format(1579.543)"
      ],
      "metadata": {
        "colab": {
          "base_uri": "https://localhost:8080/",
          "height": 36
        },
        "id": "EZ3TmITvg-P5",
        "outputId": "47fdbb32-43ee-42d5-d363-06fc9181767a"
      },
      "execution_count": 20,
      "outputs": [
        {
          "output_type": "execute_result",
          "data": {
            "text/plain": [
              "'1579.54'"
            ],
            "application/vnd.google.colaboratory.intrinsic+json": {
              "type": "string"
            }
          },
          "metadata": {},
          "execution_count": 20
        }
      ]
    },
    {
      "cell_type": "code",
      "source": [
        "import locale\n",
        "locale.setlocale(locale.LC_ALL,\"pt_BR.utf-8\")\n",
        "\"{:n}\".format(1579.543)"
      ],
      "metadata": {
        "id": "YUOnm46ihE1P"
      },
      "execution_count": null,
      "outputs": []
    },
    {
      "cell_type": "code",
      "source": [
        "import locale  \n",
        "locale.setlocale(locale.LC_ALL, 'pt_BR.UTF-8')  \n",
        "valor_em_Real_formatado = locale.currency(12.4593681)\n",
        "print(valor_em_Real_formatado)"
      ],
      "metadata": {
        "id": "ZLNOEWCqizRb"
      },
      "execution_count": null,
      "outputs": []
    },
    {
      "cell_type": "code",
      "source": [
        "nota1 = 9.55\n",
        "nota2 = 6.56\n",
        "media = (nota1 + nota2)/2\n",
        "print(f'Média: {media}')\n",
        "print(f'Média: {round(media, 2)}')"
      ],
      "metadata": {
        "colab": {
          "base_uri": "https://localhost:8080/"
        },
        "id": "nfklQ89rj0x7",
        "outputId": "d53e35f5-6285-4e9e-8d77-0eaa17014dce"
      },
      "execution_count": 29,
      "outputs": [
        {
          "output_type": "stream",
          "name": "stdout",
          "text": [
            "Média: 8.055\n",
            "Média: 8.05\n"
          ]
        }
      ]
    },
    {
      "cell_type": "code",
      "source": [
        "valor = 1000000\n",
        "texto = f'R${valor:_.2f}' #forço um '_' entre as centenas\n",
        "texto"
      ],
      "metadata": {
        "colab": {
          "base_uri": "https://localhost:8080/",
          "height": 36
        },
        "id": "gBGqynKTlfff",
        "outputId": "45c8bb52-408d-4705-8c5c-cc46d1254f80"
      },
      "execution_count": 34,
      "outputs": [
        {
          "output_type": "execute_result",
          "data": {
            "text/plain": [
              "'R$1_000_000.00'"
            ],
            "application/vnd.google.colaboratory.intrinsic+json": {
              "type": "string"
            }
          },
          "metadata": {},
          "execution_count": 34
        }
      ]
    },
    {
      "cell_type": "code",
      "source": [
        "texto_formt = texto\n",
        "texto_formt = texto_formt.replace('.',',').replace('_','.')\n",
        "texto_formt #formato br"
      ],
      "metadata": {
        "colab": {
          "base_uri": "https://localhost:8080/",
          "height": 36
        },
        "id": "Kt0Vpm-YmCU7",
        "outputId": "3a46be0f-942b-48c9-beb5-12b63fa8e5b9"
      },
      "execution_count": 35,
      "outputs": [
        {
          "output_type": "execute_result",
          "data": {
            "text/plain": [
              "'R$1.000.000,00'"
            ],
            "application/vnd.google.colaboratory.intrinsic+json": {
              "type": "string"
            }
          },
          "metadata": {},
          "execution_count": 35
        }
      ]
    },
    {
      "cell_type": "markdown",
      "source": [
        "Referências \n",
        "- MENEZES, Nilo Ney Coutinho. Introdução a programação com Python. São Paulo: Novatec, 2019.\n",
        "- https://www.w3schools.com/python\n",
        "- https://www.w3schools.com/python/python_strings_methods.asp"
      ],
      "metadata": {
        "id": "XAq758Grs1m_"
      }
    },
    {
      "cell_type": "markdown",
      "source": [
        ""
      ],
      "metadata": {
        "id": "ME8K2hovaRby"
      }
    }
  ],
  "metadata": {
    "colab": {
      "name": "String-Python.ipynb",
      "provenance": [],
      "authorship_tag": "ABX9TyN65QjTGaTd/hJpD+xdNXpi",
      "include_colab_link": true
    },
    "kernelspec": {
      "display_name": "Python 3",
      "name": "python3"
    },
    "language_info": {
      "name": "python"
    }
  },
  "nbformat": 4,
  "nbformat_minor": 0
}
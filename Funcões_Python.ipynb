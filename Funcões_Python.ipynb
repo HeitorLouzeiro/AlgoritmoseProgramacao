{
  "nbformat": 4,
  "nbformat_minor": 0,
  "metadata": {
    "colab": {
      "name": "Funcões-Python.ipynb",
      "provenance": [],
      "authorship_tag": "ABX9TyOsJ8ooRXCEa/1DmiNBrk6z",
      "include_colab_link": true
    },
    "kernelspec": {
      "name": "python3",
      "display_name": "Python 3"
    },
    "language_info": {
      "name": "python"
    }
  },
  "cells": [
    {
      "cell_type": "markdown",
      "metadata": {
        "id": "view-in-github",
        "colab_type": "text"
      },
      "source": [
        "<a href=\"https://colab.research.google.com/github/fgsantosti/AlgoritmoseProgramacao/blob/master/Func%C3%B5es_Python.ipynb\" target=\"_parent\"><img src=\"https://colab.research.google.com/assets/colab-badge.svg\" alt=\"Open In Colab\"/></a>"
      ]
    },
    {
      "cell_type": "markdown",
      "source": [
        "#Funções em Python \n",
        "\n",
        "Uma função é um bloco de código que só é executado quando é chamado. Você pode passar dados, conhecidos como parâmetros, para uma função. Uma função pode retornar dados como resultado.\n",
        "\n",
        "Já sabemos como usar várias funções, como `len, int, float, print e input`. Neste capítulo, veremos como `declarar` novas funções e utilizá-las em programas.\n",
        "\n",
        "Em Python, uma função é definida usando a palavra-chave `def`:"
      ],
      "metadata": {
        "id": "zSZ98bwonS5B"
      }
    },
    {
      "cell_type": "code",
      "source": [
        "#Definição de uma nova função\n",
        "def soma(a, b):\n",
        "  print(a+b)\n",
        "\n",
        "soma(4,5)\n",
        "soma(4,15)"
      ],
      "metadata": {
        "id": "czHbF_7kCdTT",
        "colab": {
          "base_uri": "https://localhost:8080/"
        },
        "outputId": "c145a84c-0da9-4839-9531-c59f86640ef0"
      },
      "execution_count": 2,
      "outputs": [
        {
          "output_type": "stream",
          "name": "stdout",
          "text": [
            "9\n",
            "19\n"
          ]
        }
      ]
    },
    {
      "cell_type": "code",
      "source": [
        "#Definição do retorno do valor\n",
        "def soma(a, b):\n",
        "  return(a+b)\n"
      ],
      "metadata": {
        "id": "iSh2qhJuuAg8"
      },
      "execution_count": null,
      "outputs": []
    },
    {
      "cell_type": "markdown",
      "source": [
        "As funções são bem divididas ... eu as sempre digo que são partidos políticos que defendem muito bem suas ideias e princípios. Onde temos as funções: \n",
        "- Função sem passagem de parametro sem retorno (FSPPSR)\n",
        "- Função sem passagem de parametro com retorno (FSPPCR)\n",
        "- Função com passagem de parametro sem retorno (FCPPSR)\n",
        "- Função com passagem de parametro com retorno (FCPPCR)"
      ],
      "metadata": {
        "id": "3sRtPMBGw9wd"
      }
    },
    {
      "cell_type": "markdown",
      "source": [
        "### Função sem passagem de parametro sem retorno (FSPPSR)"
      ],
      "metadata": {
        "id": "Rl37Sv3auw1F"
      }
    },
    {
      "cell_type": "code",
      "source": [
        "def soma():\n",
        "  a = int(input('Numero 1: '))\n",
        "  b = int(input('Numero 2: '))\n",
        "  print(a+b)"
      ],
      "metadata": {
        "id": "YP3edHQSvN-a"
      },
      "execution_count": null,
      "outputs": []
    },
    {
      "cell_type": "markdown",
      "source": [
        "### Função sem passagem de parametro com retorno (FSPPCR)"
      ],
      "metadata": {
        "id": "inBRwsOXvCXE"
      }
    },
    {
      "cell_type": "code",
      "source": [
        "def soma():\n",
        "  a = int(input('Numero 1: '))\n",
        "  b = int(input('Numero 2: '))\n",
        "  return(a+b)"
      ],
      "metadata": {
        "id": "XCqJGHr4u8zb"
      },
      "execution_count": 5,
      "outputs": []
    },
    {
      "cell_type": "code",
      "source": [
        "resultado = soma() #pegando o retorno da função\n",
        "print(resultado) #exibindo o retorno da função"
      ],
      "metadata": {
        "colab": {
          "base_uri": "https://localhost:8080/"
        },
        "id": "Set59jJ4wK47",
        "outputId": "b85efa19-4fe2-4547-87ec-8b9ef3ac783f"
      },
      "execution_count": 6,
      "outputs": [
        {
          "output_type": "stream",
          "name": "stdout",
          "text": [
            "Numero 1: 4\n",
            "Numero 2: 7\n",
            "11\n"
          ]
        }
      ]
    },
    {
      "cell_type": "code",
      "source": [
        "#função cria uma lista de números\n",
        "def pegar_numeros():\n",
        "  op = 3\n",
        "  lista_numeros = []\n",
        "  while(op != 0):\n",
        "    print('1 - Inserir numero na lista')\n",
        "    print('0 - Sair')\n",
        "    op = int(input())\n",
        "    if(op ==1):\n",
        "      numero = int(input('Inserir número: '))\n",
        "      lista_numeros.append(numero)\n",
        "\n",
        "  return lista_numeros #retorna a lista com todos os numeros inseridos"
      ],
      "metadata": {
        "id": "auyJejyIHPX4"
      },
      "execution_count": 24,
      "outputs": []
    },
    {
      "cell_type": "code",
      "source": [
        "pegar_numeros()"
      ],
      "metadata": {
        "colab": {
          "base_uri": "https://localhost:8080/"
        },
        "id": "0bSM3XUaHlzF",
        "outputId": "fe88a490-7b9c-41fe-d83f-3253000e6729"
      },
      "execution_count": 25,
      "outputs": [
        {
          "name": "stdout",
          "output_type": "stream",
          "text": [
            "1 - Inserir numero na lista\n",
            "0 - Sair\n",
            "1\n",
            "Inserir número: 2\n",
            "1 - Inserir numero na lista\n",
            "0 - Sair\n",
            "1\n",
            "Inserir número: 5\n",
            "1 - Inserir numero na lista\n",
            "0 - Sair\n",
            "1\n",
            "Inserir número: 7\n",
            "1 - Inserir numero na lista\n",
            "0 - Sair\n",
            "0\n"
          ]
        },
        {
          "output_type": "execute_result",
          "data": {
            "text/plain": [
              "[2, 5, 7]"
            ]
          },
          "metadata": {},
          "execution_count": 25
        }
      ]
    },
    {
      "cell_type": "markdown",
      "source": [
        "### Função com passagem de parametro sem retorno (FCPPSR)\n",
        "\n",
        "Obs. O número de parametros passados a função que determina é o programador, não existe um limite para ser passado."
      ],
      "metadata": {
        "id": "CM6yqn-1u9It"
      }
    },
    {
      "cell_type": "code",
      "source": [
        "def soma(a, b):\n",
        "  print(a+b)"
      ],
      "metadata": {
        "id": "S6Y1Dm3bvCB8"
      },
      "execution_count": 3,
      "outputs": []
    },
    {
      "cell_type": "code",
      "source": [
        "soma(20, 75)#print da minha soma"
      ],
      "metadata": {
        "colab": {
          "base_uri": "https://localhost:8080/"
        },
        "id": "Kw1y1LBpyU0S",
        "outputId": "80d1dc71-bd76-4727-dfd8-1e6c2d33a419"
      },
      "execution_count": 4,
      "outputs": [
        {
          "output_type": "stream",
          "name": "stdout",
          "text": [
            "95\n"
          ]
        }
      ]
    },
    {
      "cell_type": "code",
      "source": [
        "#Se o número de argumentos for desconhecido, \n",
        "#adicione um * antes do nome do parâmetro:\n",
        "def my_function(*kids):\n",
        "  print(\"The youngest child is \" + kids[2])#a referência é por index\n",
        "\n",
        "my_function(\"Emil\", \"Tobias\", \"Linus\")"
      ],
      "metadata": {
        "colab": {
          "base_uri": "https://localhost:8080/"
        },
        "id": "biPkOfFVA2SK",
        "outputId": "77de2338-da48-4c5f-e989-4c9d98a6c48e"
      },
      "execution_count": 9,
      "outputs": [
        {
          "output_type": "stream",
          "name": "stdout",
          "text": [
            "The youngest child is Linus\n"
          ]
        }
      ]
    },
    {
      "cell_type": "code",
      "source": [
        "#Você também pode enviar argumentos com a sintaxe key = value.\n",
        "def my_function(child3, child2, child1):\n",
        "  print(\"The youngest child is \" + child3)\n",
        "\n",
        "my_function(child1 = \"Emil\", child2 = \"Tobias\", child3 = \"Linus\")"
      ],
      "metadata": {
        "colab": {
          "base_uri": "https://localhost:8080/"
        },
        "id": "AGL_MMh6Bpfz",
        "outputId": "aeff6d4f-1245-4d2f-e4e3-83b01183bf95"
      },
      "execution_count": 11,
      "outputs": [
        {
          "output_type": "stream",
          "name": "stdout",
          "text": [
            "The youngest child is Linus\n"
          ]
        }
      ]
    },
    {
      "cell_type": "markdown",
      "source": [
        "Se você não souber quantos argumentos de palavras-chave serão passados ​​para sua função, adicione dois asteriscos: ** antes do nome do parâmetro na definição da função.\n",
        "\n",
        "Desta forma a função receberá um dicionário de argumentos, podendo acessar os itens de acordo:"
      ],
      "metadata": {
        "id": "lUVonYfUB4IY"
      }
    },
    {
      "cell_type": "code",
      "source": [
        "def my_function(**kid):\n",
        "  print(\"His last name is \" + kid[\"lname\"])\n",
        "\n",
        "my_function(fname = \"Tobias\", lname = \"Refsnes\")"
      ],
      "metadata": {
        "colab": {
          "base_uri": "https://localhost:8080/"
        },
        "id": "3HQHX_x2CJTu",
        "outputId": "461d537b-43f8-4bd7-9f87-f90c727f4582"
      },
      "execution_count": 10,
      "outputs": [
        {
          "output_type": "stream",
          "name": "stdout",
          "text": [
            "His last name is Refsnes\n"
          ]
        }
      ]
    },
    {
      "cell_type": "markdown",
      "source": [
        "### Função com passagem de parametro com retorno (FCPPCR)"
      ],
      "metadata": {
        "id": "jVBaKtQzvRWg"
      }
    },
    {
      "cell_type": "code",
      "source": [
        "def soma(a, b):\n",
        "  return(a+b)"
      ],
      "metadata": {
        "id": "wggNeEOJvXLJ"
      },
      "execution_count": 7,
      "outputs": []
    },
    {
      "cell_type": "code",
      "source": [
        "resultado = soma(4,6)\n",
        "print(resultado)"
      ],
      "metadata": {
        "colab": {
          "base_uri": "https://localhost:8080/"
        },
        "id": "ZhdqZenbAS0W",
        "outputId": "407e8ca7-d32a-4cce-9da8-3b04e32f905c"
      },
      "execution_count": 8,
      "outputs": [
        {
          "output_type": "stream",
          "name": "stdout",
          "text": [
            "10\n"
          ]
        }
      ]
    },
    {
      "cell_type": "code",
      "source": [
        "def epar(x):\n",
        "  return(x%2==0) #retorna True ou False\n",
        "\n",
        "print(epar(8))\n",
        "print(epar(5))"
      ],
      "metadata": {
        "colab": {
          "base_uri": "https://localhost:8080/"
        },
        "id": "IEZDxLO_DGso",
        "outputId": "aa1e30d9-3250-47b7-efbf-858a844192be"
      },
      "execution_count": 12,
      "outputs": [
        {
          "output_type": "stream",
          "name": "stdout",
          "text": [
            "True\n",
            "False\n"
          ]
        }
      ]
    },
    {
      "cell_type": "code",
      "source": [
        "def contar_pares(lista_numeros):\n",
        "  contador = 0\n",
        "  for i in range(len(lista_numeros)):\n",
        "    if(lista_numeros[i]%2==0):\n",
        "      contador = contador + 1\n",
        "  return contador\n",
        "\n",
        "print(contar_pares([3,4,5,6,7]))"
      ],
      "metadata": {
        "colab": {
          "base_uri": "https://localhost:8080/"
        },
        "id": "NIl0LUomDSPu",
        "outputId": "88f368c1-fa12-4c85-fa37-bb7424f458a5"
      },
      "execution_count": 21,
      "outputs": [
        {
          "output_type": "stream",
          "name": "stdout",
          "text": [
            "2\n"
          ]
        }
      ]
    },
    {
      "cell_type": "code",
      "source": [
        "#criando uma função para pegar os valores da lista\n",
        "def pegar_numeros():\n",
        "  op = 3\n",
        "  lista_numeros = []\n",
        "  while(op != 0):\n",
        "    print('1 - Inserir numero na lista')\n",
        "    print('0 - Sair')\n",
        "    op = int(input())\n",
        "    if(op ==1):\n",
        "      numero = int(input('Inserir número: '))\n",
        "      lista_numeros.append(numero)\n",
        "\n",
        "  return lista_numeros"
      ],
      "metadata": {
        "id": "5st8MvEED_Ih"
      },
      "execution_count": 22,
      "outputs": []
    },
    {
      "cell_type": "code",
      "source": [
        "print(pegar_numeros())"
      ],
      "metadata": {
        "colab": {
          "base_uri": "https://localhost:8080/"
        },
        "id": "LrddPYo0E6_j",
        "outputId": "c7be17f6-f3fb-46b5-d4a3-92bb36a3dad0"
      },
      "execution_count": 19,
      "outputs": [
        {
          "output_type": "stream",
          "name": "stdout",
          "text": [
            "1 - Inserir numero na lista\n",
            "0 - Sair\n",
            "1\n",
            "Inserir número: 3\n",
            "1 - Inserir numero na lista\n",
            "0 - Sair\n",
            "1\n",
            "Inserir número: 4\n",
            "1 - Inserir numero na lista\n",
            "0 - Sair\n",
            "1\n",
            "Inserir número: 6\n",
            "1 - Inserir numero na lista\n",
            "0 - Sair\n",
            "0\n",
            "[3, 4, 6]\n"
          ]
        }
      ]
    },
    {
      "cell_type": "code",
      "source": [
        "#contar_pares(lista_numeros)\n",
        "contar_pares(pegar_numeros())"
      ],
      "metadata": {
        "colab": {
          "base_uri": "https://localhost:8080/"
        },
        "id": "yKMhhyPDFkiN",
        "outputId": "7f9f2ed8-56d4-4c02-8f9a-7783bd771780"
      },
      "execution_count": 23,
      "outputs": [
        {
          "name": "stdout",
          "output_type": "stream",
          "text": [
            "1 - Inserir numero na lista\n",
            "0 - Sair\n",
            "1\n",
            "Inserir número: 2\n",
            "1 - Inserir numero na lista\n",
            "0 - Sair\n",
            "1\n",
            "Inserir número: 5\n",
            "1 - Inserir numero na lista\n",
            "0 - Sair\n",
            "1\n",
            "Inserir número: 6\n",
            "1 - Inserir numero na lista\n",
            "0 - Sair\n",
            "0\n"
          ]
        },
        {
          "output_type": "execute_result",
          "data": {
            "text/plain": [
              "2"
            ]
          },
          "metadata": {},
          "execution_count": 23
        }
      ]
    },
    {
      "cell_type": "code",
      "source": [
        "#Função soma com número indeterminado de parâmetros\n",
        "def soma(*args):\n",
        "  s=0\n",
        "  for x in args:\n",
        "    s+=x\n",
        "  return s\n",
        "\n",
        "print(soma(5,6))\n",
        "print(soma(5,6,7,8))"
      ],
      "metadata": {
        "colab": {
          "base_uri": "https://localhost:8080/"
        },
        "id": "Umjz8IYWOayo",
        "outputId": "841b3f97-cd0f-457e-f0f8-433e8b63f6c7"
      },
      "execution_count": 28,
      "outputs": [
        {
          "output_type": "stream",
          "name": "stdout",
          "text": [
            "11\n",
            "26\n"
          ]
        }
      ]
    },
    {
      "cell_type": "code",
      "source": [
        "#Função soma com parâmetros obrigatórios e opcionais\n",
        "def soma(a, b, imprimir=False):\n",
        "  s = a + b\n",
        "  if imprimir:\n",
        "    print(s)\n",
        "  return s"
      ],
      "metadata": {
        "id": "6h-zcvgMO-3D"
      },
      "execution_count": 30,
      "outputs": []
    },
    {
      "cell_type": "code",
      "source": [
        "soma(4, 5, imprimir=False)"
      ],
      "metadata": {
        "colab": {
          "base_uri": "https://localhost:8080/"
        },
        "id": "r2s9U8qnPa1h",
        "outputId": "f8364bb7-bd2e-43d5-97f7-2043e0dd01be"
      },
      "execution_count": 31,
      "outputs": [
        {
          "output_type": "execute_result",
          "data": {
            "text/plain": [
              "9"
            ]
          },
          "metadata": {},
          "execution_count": 31
        }
      ]
    },
    {
      "cell_type": "code",
      "source": [
        "soma(4, 5, imprimir=True)"
      ],
      "metadata": {
        "colab": {
          "base_uri": "https://localhost:8080/"
        },
        "id": "tWuVnUqqPcMQ",
        "outputId": "db819bde-ac9d-4242-e354-11cb01fae490"
      },
      "execution_count": 32,
      "outputs": [
        {
          "output_type": "stream",
          "name": "stdout",
          "text": [
            "9\n"
          ]
        },
        {
          "output_type": "execute_result",
          "data": {
            "text/plain": [
              "9"
            ]
          },
          "metadata": {},
          "execution_count": 32
        }
      ]
    },
    {
      "cell_type": "code",
      "source": [
        "#Função imprime_maior com número indeterminado de parâmetros\n",
        "def imprime_maior(mensagem, *numeros):\n",
        "  maior = None\n",
        "  for e in numeros:\n",
        "    if maior == None or maior < e:\n",
        "      maior = e\n",
        "  print(mensagem, maior)\n",
        "\n",
        "imprime_maior(\"Maior:\",5,4,3,1)\n",
        "imprime_maior(\"Max:\", *[1,7,9])"
      ],
      "metadata": {
        "colab": {
          "base_uri": "https://localhost:8080/"
        },
        "id": "0mVQCN58Q1vm",
        "outputId": "aeac2b2f-633f-45f4-e8a9-a06a9aa9b494"
      },
      "execution_count": 33,
      "outputs": [
        {
          "output_type": "stream",
          "name": "stdout",
          "text": [
            "Maior: 5\n",
            "Max: 9\n"
          ]
        }
      ]
    },
    {
      "cell_type": "markdown",
      "source": [
        "### Pesquisar em uma lista"
      ],
      "metadata": {
        "id": "0e41eLgJF-Ga"
      }
    },
    {
      "cell_type": "code",
      "source": [
        ""
      ],
      "metadata": {
        "id": "H-rpxWzTGsSE"
      },
      "execution_count": null,
      "outputs": []
    },
    {
      "cell_type": "markdown",
      "source": [
        "### Módulo\n",
        "Depois de criarmos várias funções, os programas ficaram muito grandes. Precisamos armazenar nossas funções em outros arquivos e, de alguma forma usá-las, sem precisar reescrevê-las, ou pior, copiar e colar.\n",
        "\n",
        "Python resolve o problema com módulos. Todo arquivo .py é um módulo, podendo ser importado com o comando `import`."
      ],
      "metadata": {
        "id": "JdKG2NWRGrhM"
      }
    },
    {
      "cell_type": "code",
      "source": [
        "#crie um arquivo chamado entrada.py\n",
        "def pesquisar_ocorrencias(palavra, texto):\n",
        "  palavra=0\n",
        "  while(palavra>-1):\n",
        "    palavra=texto.find(\"tigre\", palavra)\n",
        "    if palavra>=0:\n",
        "      print(\"Posição: %d\" % palavra)\n",
        "      palavra+=1"
      ],
      "metadata": {
        "id": "YKcSmieGGwCr"
      },
      "execution_count": null,
      "outputs": []
    },
    {
      "cell_type": "code",
      "source": [
        "import entrada\n",
        "\n",
        "texto = 'Todos os caminhos levam a curso de ADS'\n",
        "palavra = 'ADS'\n",
        "\n",
        "entrada.pesquisar_ocorrencias(palavra, texto)"
      ],
      "metadata": {
        "id": "wBjbtulwlel9"
      },
      "execution_count": null,
      "outputs": []
    },
    {
      "cell_type": "markdown",
      "source": [
        "### Função recursiva \n",
        "\n",
        "Assim como em muitas outras linguagens de programação, uma função pode chamar a si própria. Uma função que calcule o fatorial de um número inteiro n é um bom exemplo de uma função recursiva:\n",
        "\n"
      ],
      "metadata": {
        "id": "_g6uktgLRhQZ"
      }
    },
    {
      "cell_type": "code",
      "source": [
        "def fat(n):\n",
        "  if(n>0):\n",
        "    print(n)\n",
        "    return n*fat(n-1)\n",
        "  else:\n",
        "    return 1\n",
        "\n",
        "fat(5) #5! = 5 . 4 . 3 . 2 . 1 = 120"
      ],
      "metadata": {
        "colab": {
          "base_uri": "https://localhost:8080/"
        },
        "id": "Ozh7nbuWRj2A",
        "outputId": "e0f3f48d-841f-4f5f-dcea-90d6d1253c91"
      },
      "execution_count": 3,
      "outputs": [
        {
          "output_type": "stream",
          "name": "stdout",
          "text": [
            "5\n",
            "4\n",
            "3\n",
            "2\n",
            "1\n"
          ]
        },
        {
          "output_type": "execute_result",
          "data": {
            "text/plain": [
              "120"
            ]
          },
          "metadata": {},
          "execution_count": 3
        }
      ]
    },
    {
      "cell_type": "markdown",
      "source": [
        "Referências \n",
        "- MENEZES, Nilo Ney Coutinho. Introdução a programação com Python. São Paulo: Novatec, 2019.\n",
        "- https://www.w3schools.com/python\n",
        "- https://www.w3schools.com/python/python_functions.asp"
      ],
      "metadata": {
        "id": "Y6ridGo0m9lL"
      }
    },
    {
      "cell_type": "markdown",
      "source": [
        ""
      ],
      "metadata": {
        "id": "Cb14PNSkm9iT"
      }
    }
  ]
}
{
  "nbformat": 4,
  "nbformat_minor": 0,
  "metadata": {
    "colab": {
      "name": "Banco de Dados II.ipynb",
      "provenance": [],
      "authorship_tag": "ABX9TyOtfo9eidQD8H7n5ouXxHtE",
      "include_colab_link": true
    },
    "kernelspec": {
      "name": "python3",
      "display_name": "Python 3"
    },
    "language_info": {
      "name": "python"
    }
  },
  "cells": [
    {
      "cell_type": "markdown",
      "metadata": {
        "id": "view-in-github",
        "colab_type": "text"
      },
      "source": [
        "<a href=\"https://colab.research.google.com/github/fgsantosti/AlgoritmoseProgramacao/blob/master/Banco_de_Dados_II.ipynb\" target=\"_parent\"><img src=\"https://colab.research.google.com/assets/colab-badge.svg\" alt=\"Open In Colab\"/></a>"
      ]
    },
    {
      "cell_type": "code",
      "metadata": {
        "id": "C98ZZk94_uJk"
      },
      "source": [
        ""
      ],
      "execution_count": null,
      "outputs": []
    },
    {
      "cell_type": "markdown",
      "metadata": {
        "id": "4o6ErRcqABwN"
      },
      "source": [
        "# Banco de Dados\n",
        "\n",
        "## Introdução \n",
        "Um sistema de banco de dados (SGBD) é um sistema computadorizado que permite os usuários criem e mantenham um banco de dados. O SGBd é um sistema de software de uso geral que facilita o processo de definição, construção, minipulação e compartilhamento de banco de dados entre diversos usuários e aplicações. \n",
        "\n",
        "A **definição** de banco de dados envolve especificar os tipos de dados,  as estruturas e restrições dos dados a serem armazenados. A definição ou informação descritica dos banco de dados também é armazenada pelo SGBD na forma de um catálogo ou dicionário, chamado de **metadados** . \n",
        "\n",
        "A **construção** do bando de dados é o processo de armazenar os dados em algum meio de armazenamento controlado pelo SGBD. \n",
        "\n",
        "A **manipulação** de um banco de dados inclui funções como consulta, para recuperar os dados específicos, atualização, para refletir mudanças no minimundo, e geração de relatórios a partir dos dados. \n",
        "\n",
        "O **compartilhamento** permite que vários usuários e programas acessem o banco de dados simultaneamente. \n",
        "\n",
        "\n",
        "## Referências \n",
        "Elmasri, Ramiez, Shamkant B. Navathe; tradução Daniel Vieira; visão técnica Enzo Seraphim, Thatyana de Faria Piola Seraphim. 7. ed. -- São Paulo : Pearson Education do Brasil, 2018."
      ]
    }
  ]
}
{
  "nbformat": 4,
  "nbformat_minor": 0,
  "metadata": {
    "colab": {
      "name": "Arquivos_Python.ipynb",
      "provenance": [],
      "authorship_tag": "ABX9TyPUgHDbrms3NvGCebZ7VpMw",
      "include_colab_link": true
    },
    "kernelspec": {
      "name": "python3",
      "display_name": "Python 3"
    },
    "language_info": {
      "name": "python"
    }
  },
  "cells": [
    {
      "cell_type": "markdown",
      "metadata": {
        "id": "view-in-github",
        "colab_type": "text"
      },
      "source": [
        "<a href=\"https://colab.research.google.com/github/fgsantosti/AlgoritmoseProgramacao/blob/master/Arquivos_Python.ipynb\" target=\"_parent\"><img src=\"https://colab.research.google.com/assets/colab-badge.svg\" alt=\"Open In Colab\"/></a>"
      ]
    },
    {
      "cell_type": "markdown",
      "source": [
        "# Arquivo em Python\n",
        "\n",
        "Nesse capítulo iremos trabalhar com arquivos .txt, binários e .json, trabalhando com as operaçoes de criar, listar, alterar e deletar. \n",
        "\n",
        "Modos de abertura de arquivo\n",
        "- r - leitura\n",
        "- w - escrita, apaga o conteúdo se ja existe\n",
        "- a - escrita, mas preserva o conteúdo se ja existe\n",
        "- b -  modo binário\n",
        "- (+) - atualização (leitura e escrita)\n",
        "\n",
        "Os modos podem ser combinados (“r+”, “w+”, “a+”, “r+b”, “w+b”, “a+b”).\n",
        "\n"
      ],
      "metadata": {
        "id": "mDKfDGF1qIn3"
      }
    },
    {
      "cell_type": "markdown",
      "source": [
        "### Abrindo, escrevendo e fechando um arquivo\n"
      ],
      "metadata": {
        "id": "v46Pmyk6rFdG"
      }
    },
    {
      "cell_type": "code",
      "execution_count": null,
      "metadata": {
        "id": "upUeXS4nqFqm"
      },
      "outputs": [],
      "source": [
        "def abrir_arquivo():\n",
        "  arquivo = open(\"clinica.txt\", \"w\")\n",
        "  or linha in range(1, 101):\n",
        "        arquivo.write(\"%d\\n\" % linha)"
      ]
    },
    {
      "cell_type": "markdown",
      "source": [
        "### Abrindo, lendo e fechando um arquivo\n"
      ],
      "metadata": {
        "id": "m9js3UydrEne"
      }
    },
    {
      "cell_type": "code",
      "source": [
        "def abrir_ler_arquivo():\n",
        "    arquivo = open(\"clinica.txt\", \"r\")\n",
        "    for linha in arquivo.readlines():\n",
        "        print(linha)\n",
        "    arquivo.close()"
      ],
      "metadata": {
        "id": "1gYsuE_OrD--"
      },
      "execution_count": null,
      "outputs": []
    },
    {
      "cell_type": "markdown",
      "source": [
        "### Gravação de números pares e ímpares em arquivos diferentes"
      ],
      "metadata": {
        "id": "f7mOtdO1rGd2"
      }
    },
    {
      "cell_type": "code",
      "source": [
        "impares=open(\"ímpares.txt\",\"w\")\n",
        "pares=open(\"pares.txt\",\"w\")\n",
        "for n in range(0,1000):\n",
        "    if n % 2 == 0:\n",
        "        pares.write(\"%d\\n\" % n)\n",
        "    else:\n",
        "        impares.write(\"%d\\n\" % n)\n",
        "impares.close()\n",
        "pares.close()"
      ],
      "metadata": {
        "id": "pDtYjxinrHXO"
      },
      "execution_count": null,
      "outputs": []
    },
    {
      "cell_type": "markdown",
      "source": [
        "### Agenda de Contatos"
      ],
      "metadata": {
        "id": "vav-xjHfrbqc"
      }
    },
    {
      "cell_type": "code",
      "source": [
        "agenda=[]\n",
        "\n",
        "def pegar_nome():\n",
        "    return(input(\"Nome: \"))\n",
        "\n",
        "def pegar_telefone():\n",
        "    return(input(\"Telefone: \"))\n",
        "\n",
        "def mostrar_dados(nome, telefone):\n",
        "    print('Nome: %s Telefone: %s' % (nome, telefone))\n",
        "\n",
        "def pegar_nome_arquivo():\n",
        "    return(input(\"Nome do arquivo: \"))\n",
        "\n",
        "def pesquisar_nome(nome):\n",
        "    mnome = nome.lower()\n",
        "    for p, e in enumerate(agenda):\n",
        "        if e[0].lower() == mnome:\n",
        "            return p\n",
        "    return None\n",
        "\n",
        "def salvar_contato():\n",
        "    global agenda\n",
        "    nome = pegar_nome()\n",
        "    telefone = pegar_telefone()\n",
        "    agenda.append([nome, telefone])\n",
        "\n",
        "def apagar_contato():\n",
        "    global agenda\n",
        "    nome = pegar_nome()\n",
        "    retorno_pesquisa = pesquisar_nome(nome)\n",
        "    if retorno_pesquisa != None:\n",
        "        del agenda[retorno_pesquisa]\n",
        "    else:\n",
        "        print(\"Nome não encontrado.\")\n",
        "\n",
        "def alterar_contato():\n",
        "    retorno_pesquisa = pesquisar_nome(pegar_nome())\n",
        "    if retorno_pesquisa != None:\n",
        "        nome = agenda[retorno_pesquisa][0]\n",
        "        telefone = agenda[retorno_pesquisa][1]\n",
        "        print(\"Encontrado: \")\n",
        "        mostrar_dados(nome, telefone)\n",
        "        nome = pegar_nome()\n",
        "        telefone = pegar_telefone()\n",
        "        agenda[retorno_pesquisa] = [nome, telefone]\n",
        "    else:\n",
        "        print('Nome não encontrado')\n",
        "\n",
        "def listar_contatos():\n",
        "    print(\"-Agenda-\")\n",
        "    for e in agenda:\n",
        "        mostrar_dados(e[0], e[1])\n",
        "    print(\"\")\n",
        "\n",
        "def ler_contatos():\n",
        "    global agenda\n",
        "    nome_arquivo = pegar_nome_arquivo()\n",
        "    arquivo = open(nome_arquivo, \"r\", encoding=\"utf-8\")\n",
        "    agenda = []\n",
        "    for dado in arquivo.readlines():\n",
        "        nome, telefone = dado.strip().split(\"#\")\n",
        "        agenda.append([nome, telefone])\n",
        "    arquivo.close()\n",
        "\n",
        "def gravar_contatos():\n",
        "    nome_arquivo = pegar_nome_arquivo()\n",
        "    arquivo = open(nome_arquivo, \"w\", encoding=\"utf-8\")\n",
        "    for e in agenda:\n",
        "        arquivo.write(\"%s#%s \\n\" %(e[0], e[1]))\n",
        "    arquivo.close()\n",
        "\n",
        "def pegar_valor_menu(text, ini, fim):\n",
        "    valor = int(input(text))\n",
        "    while True:\n",
        "        try: \n",
        "            if(ini<=valor and valor<=fim): #if(ini <=valor <=fim):\n",
        "                return(valor)\n",
        "        except ValueError:\n",
        "            print('Valor invalido')\n",
        "\n",
        "def menu():\n",
        "    print('''\n",
        "    1- Novo Contato\n",
        "    2- Alterar Contato\n",
        "    3- Apagar Contato\n",
        "    4- Listar Contato\n",
        "    5- Gravar Contato\n",
        "    6- Ler Arquivo \n",
        "    0- Sair do Sistema\n",
        "    ''')\n",
        "    return pegar_valor_menu(\"Digite a opção desejada: \", 0, 6)\n",
        "\n",
        "while True:\n",
        "    opcao = menu()\n",
        "    if opcao == 0:\n",
        "        break\n",
        "    elif opcao == 1:\n",
        "        salvar_contato()\n",
        "    elif opcao == 2:\n",
        "        alterar_contato()\n",
        "    elif opcao == 3:\n",
        "        apagar_contato()\n",
        "    elif opcao == 4:\n",
        "        listar_contatos()\n",
        "    elif opcao == 5:\n",
        "        gravar_contatos()\n",
        "    elif opcao == 6:\n",
        "        ler_contatos()\n"
      ],
      "metadata": {
        "id": "RLMHaeMwrfOz"
      },
      "execution_count": null,
      "outputs": []
    },
    {
      "cell_type": "markdown",
      "source": [
        "Referências \n",
        "- MENEZES, Nilo Ney Coutinho. Introdução a programação com Python. São Paulo: Novatec, 2019.\n",
        "- https://www.w3schools.com/python\n",
        "- https://www.w3schools.com/python/python_functions.asp"
      ],
      "metadata": {
        "id": "cThzZSezrvah"
      }
    }
  ]
}
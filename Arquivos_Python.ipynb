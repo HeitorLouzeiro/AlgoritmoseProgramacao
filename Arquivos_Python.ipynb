{
  "nbformat": 4,
  "nbformat_minor": 0,
  "metadata": {
    "colab": {
      "name": "Arquivos_Python.ipynb",
      "provenance": [],
      "collapsed_sections": [],
      "authorship_tag": "ABX9TyNmf/hoVbLxspcdjaogNR4R",
      "include_colab_link": true
    },
    "kernelspec": {
      "name": "python3",
      "display_name": "Python 3"
    },
    "language_info": {
      "name": "python"
    }
  },
  "cells": [
    {
      "cell_type": "markdown",
      "metadata": {
        "id": "view-in-github",
        "colab_type": "text"
      },
      "source": [
        "<a href=\"https://colab.research.google.com/github/fgsantosti/AlgoritmoseProgramacao/blob/master/Arquivos_Python.ipynb\" target=\"_parent\"><img src=\"https://colab.research.google.com/assets/colab-badge.svg\" alt=\"Open In Colab\"/></a>"
      ]
    },
    {
      "cell_type": "markdown",
      "source": [
        "# Arquivo em Python\n",
        "\n",
        "Nesse capítulo iremos trabalhar com arquivos .txt, binários e .json, trabalhando com as operaçoes de criar, listar, alterar e deletar. \n",
        "\n",
        "Modos de abertura de arquivo\n",
        "- r - leitura\n",
        "- w - escrita, apaga o conteúdo se ja existe\n",
        "- a - escrita, mas preserva o conteúdo se ja existe\n",
        "- b -  modo binário\n",
        "- (+) - atualização (leitura e escrita)\n",
        "\n",
        "Os modos podem ser combinados (“r+”, “w+”, “a+”, “r+b”, “w+b”, “a+b”).\n",
        "\n"
      ],
      "metadata": {
        "id": "mDKfDGF1qIn3"
      }
    },
    {
      "cell_type": "markdown",
      "source": [
        "### Abrindo, escrevendo e fechando um arquivo\n"
      ],
      "metadata": {
        "id": "v46Pmyk6rFdG"
      }
    },
    {
      "cell_type": "code",
      "execution_count": null,
      "metadata": {
        "id": "upUeXS4nqFqm"
      },
      "outputs": [],
      "source": [
        "def abrir_arquivo():\n",
        "  arquivo = open(\"clinica.txt\", \"w\")\n",
        "  or linha in range(1, 101):\n",
        "        arquivo.write(\"%d\\n\" % linha)"
      ]
    },
    {
      "cell_type": "markdown",
      "source": [
        "### Abrindo, lendo e fechando um arquivo\n"
      ],
      "metadata": {
        "id": "m9js3UydrEne"
      }
    },
    {
      "cell_type": "code",
      "source": [
        "def abrir_ler_arquivo():\n",
        "    arquivo = open(\"clinica.txt\", \"r\")\n",
        "    for linha in arquivo.readlines():\n",
        "        print(linha)\n",
        "    arquivo.close()"
      ],
      "metadata": {
        "id": "1gYsuE_OrD--"
      },
      "execution_count": null,
      "outputs": []
    },
    {
      "cell_type": "code",
      "source": [
        "def abrir_arquivo():\n",
        "    arquivo = open(\"clinica.txt\", \"w\")\n",
        "    for linha in range(1, 3):\n",
        "        nome = input('Nome: ')\n",
        "        telefone = input('Telefone: ')\n",
        "        arquivo.write(\"%s - %s\\n\"% (nome, telefone))\n",
        "    arquivo.close()\n",
        "\n",
        "abrir_arquivo()"
      ],
      "metadata": {
        "id": "wfF5nnFHY9h8"
      },
      "execution_count": null,
      "outputs": []
    },
    {
      "cell_type": "markdown",
      "source": [
        "### Gravação de números pares e ímpares em arquivos diferentes"
      ],
      "metadata": {
        "id": "f7mOtdO1rGd2"
      }
    },
    {
      "cell_type": "code",
      "source": [
        "impares=open(\"ímpares.txt\",\"w\")\n",
        "pares=open(\"pares.txt\",\"w\")\n",
        "for n in range(0,1000):\n",
        "    if n % 2 == 0:\n",
        "        pares.write(\"%d\\n\" % n)\n",
        "    else:\n",
        "        impares.write(\"%d\\n\" % n)\n",
        "impares.close()\n",
        "pares.close()"
      ],
      "metadata": {
        "id": "pDtYjxinrHXO"
      },
      "execution_count": null,
      "outputs": []
    },
    {
      "cell_type": "code",
      "source": [
        "primos=open(\"primos.txt\", \"w\")\n",
        "cont = 0\n",
        "numero = 1\n",
        "i = 1\n",
        "contatador_primos = 0\n",
        "\n",
        "while(True):  \n",
        "   \n",
        "  while(i<=numero):\n",
        "    if numero%i == 0:\n",
        "      cont = cont + 1\n",
        "    i = i + 1\n",
        "\n",
        "  if cont == 2:\n",
        "    contatador_primos+=1\n",
        "    primos.write(\"%d\\n\" % numero)\n",
        "    print('primo')\n",
        "\n",
        "  if contatador_primos == 100:\n",
        "    print(contatador_primos)\n",
        "    break\n",
        "\n",
        "  numero = numero + 1\n",
        "  i = 1\n",
        "  cont = 0\n",
        "\n"
      ],
      "metadata": {
        "id": "VQDkMzF9gpX_"
      },
      "execution_count": null,
      "outputs": []
    },
    {
      "cell_type": "markdown",
      "source": [
        "### Agenda de Contatos"
      ],
      "metadata": {
        "id": "vav-xjHfrbqc"
      }
    },
    {
      "cell_type": "code",
      "source": [
        "agenda=[]\n",
        "\n",
        "def pegar_nome():\n",
        "    return(input(\"Nome: \"))\n",
        "\n",
        "def pegar_telefone():\n",
        "    return(input(\"Telefone: \"))\n",
        "\n",
        "def mostrar_dados(nome, telefone):\n",
        "    print('Nome: %s Telefone: %s' % (nome, telefone))\n",
        "\n",
        "def pegar_nome_arquivo():\n",
        "    return(input(\"Nome do arquivo: \"))\n",
        "\n",
        "def pesquisar_nome(nome):\n",
        "    mnome = nome.lower()\n",
        "    for p, e in enumerate(agenda):\n",
        "        if e[0].lower() == mnome:\n",
        "            return p\n",
        "    return None\n",
        "\n",
        "def salvar_contato():\n",
        "    global agenda\n",
        "    nome = pegar_nome()\n",
        "    telefone = pegar_telefone()\n",
        "    agenda.append([nome, telefone])\n",
        "\n",
        "def apagar_contato():\n",
        "    global agenda\n",
        "    nome = pegar_nome()\n",
        "    retorno_pesquisa = pesquisar_nome(nome)\n",
        "    if retorno_pesquisa != None:\n",
        "        del agenda[retorno_pesquisa]\n",
        "    else:\n",
        "        print(\"Nome não encontrado.\")\n",
        "\n",
        "def alterar_contato():\n",
        "    retorno_pesquisa = pesquisar_nome(pegar_nome())\n",
        "    if retorno_pesquisa != None:\n",
        "        nome = agenda[retorno_pesquisa][0]\n",
        "        telefone = agenda[retorno_pesquisa][1]\n",
        "        print(\"Encontrado: \")\n",
        "        mostrar_dados(nome, telefone)\n",
        "        nome = pegar_nome()\n",
        "        telefone = pegar_telefone()\n",
        "        agenda[retorno_pesquisa] = [nome, telefone]\n",
        "    else:\n",
        "        print('Nome não encontrado')\n",
        "\n",
        "def listar_contatos():\n",
        "    print(\"-Agenda-\")\n",
        "    for e in agenda:\n",
        "        mostrar_dados(e[0], e[1])\n",
        "    print(\"\")\n",
        "\n",
        "def ler_contatos():\n",
        "    global agenda\n",
        "    nome_arquivo = pegar_nome_arquivo()\n",
        "    arquivo = open(nome_arquivo, \"r\", encoding=\"utf-8\")\n",
        "    agenda = []\n",
        "    for dado in arquivo.readlines():\n",
        "        nome, telefone = dado.strip().split(\"#\")\n",
        "        agenda.append([nome, telefone])\n",
        "    arquivo.close()\n",
        "\n",
        "def gravar_contatos():\n",
        "    nome_arquivo = pegar_nome_arquivo()\n",
        "    arquivo = open(nome_arquivo, \"w\", encoding=\"utf-8\")\n",
        "    for e in agenda:\n",
        "        arquivo.write(\"%s#%s \\n\" %(e[0], e[1]))\n",
        "    arquivo.close()\n",
        "\n",
        "def pegar_valor_menu(text, ini, fim):\n",
        "    valor = int(input(text))\n",
        "    while True:\n",
        "        try: \n",
        "            if(ini<=valor and valor<=fim): #if(ini <=valor <=fim):\n",
        "                return(valor)\n",
        "        except ValueError:\n",
        "            print('Valor invalido')\n",
        "\n",
        "def menu():\n",
        "    print('''\n",
        "    1- Novo Contato\n",
        "    2- Alterar Contato\n",
        "    3- Apagar Contato\n",
        "    4- Listar Contato\n",
        "    5- Gravar Contato\n",
        "    6- Ler Arquivo \n",
        "    0- Sair do Sistema\n",
        "    ''')\n",
        "    return pegar_valor_menu(\"Digite a opção desejada: \", 0, 6)\n",
        "\n",
        "while True:\n",
        "    opcao = menu()\n",
        "    if opcao == 0:\n",
        "        break\n",
        "    elif opcao == 1:\n",
        "        salvar_contato()\n",
        "    elif opcao == 2:\n",
        "        alterar_contato()\n",
        "    elif opcao == 3:\n",
        "        apagar_contato()\n",
        "    elif opcao == 4:\n",
        "        listar_contatos()\n",
        "    elif opcao == 5:\n",
        "        gravar_contatos()\n",
        "    elif opcao == 6:\n",
        "        ler_contatos()\n"
      ],
      "metadata": {
        "id": "RLMHaeMwrfOz"
      },
      "execution_count": null,
      "outputs": []
    },
    {
      "cell_type": "markdown",
      "source": [
        "### Json com Python"
      ],
      "metadata": {
        "id": "ar-kPOuKs_5L"
      }
    },
    {
      "cell_type": "code",
      "source": [
        "#lendo json com a função loads()\n",
        "dados = '{\"nome\": \"Marcos\", \"telefone\":\"89999999\", \"email\":\"marcos.ads@gmail.com\"}'\n",
        "import json\n",
        "dados_json = json.dumps(dados)\n",
        "dados_json"
      ],
      "metadata": {
        "id": "afc_h1pGs_ma"
      },
      "execution_count": null,
      "outputs": []
    },
    {
      "cell_type": "code",
      "source": [
        "import json\n",
        "\n",
        "my_dict = { 'Ali': 9, 'Sid': 1, 'Luna': 7, 'Sim': 12, 'Pooja': 4, 'Jen': 2}\n",
        "with open('data.json', 'w') as fp:\n",
        "    json.dump(my_dict, fp)\n",
        "\n",
        "with open('data.json', 'r') as fp:\n",
        "    data = json.load(fp)\n",
        "print(data)\n",
        "print(type(data))"
      ],
      "metadata": {
        "colab": {
          "base_uri": "https://localhost:8080/"
        },
        "id": "D0EBYrGb8AI1",
        "outputId": "9def86db-4555-4996-e0ab-1492483bad48"
      },
      "execution_count": null,
      "outputs": [
        {
          "output_type": "stream",
          "name": "stdout",
          "text": [
            "{'Ali': 9, 'Sid': 1, 'Luna': 7, 'Sim': 12, 'Pooja': 4, 'Jen': 2}\n",
            "<class 'dict'>\n"
          ]
        }
      ]
    },
    {
      "cell_type": "code",
      "source": [
        "import pickle\n",
        "\n",
        "my_dict = { 'Ali': 9, 'Sid': 1, 'Luna': 7, 'Sim': 12, 'Pooja': 4, 'Jen': 2}\n",
        "with open('data.json', 'wb') as fp:\n",
        "    pickle.dump(my_dict, fp)\n",
        "\n",
        "with open('data.json', 'rb') as fp:\n",
        "    data = pickle.load(fp)\n",
        "print(data)\n",
        "print(type(data))"
      ],
      "metadata": {
        "id": "kbrl7waH8kFr"
      },
      "execution_count": null,
      "outputs": []
    },
    {
      "cell_type": "markdown",
      "source": [
        "## Pegando dados da API da Câmera dos deputados federais"
      ],
      "metadata": {
        "id": "zUQbOzeJ494w"
      }
    },
    {
      "cell_type": "code",
      "source": [
        "import json\n",
        "import requests\n",
        "\n",
        "request = requests.get(\"https://dadosabertos.camara.leg.br/arquivos/deputados/json/deputados.json\")\n",
        "dados = json.loads(request.content)\n",
        "#print(dados)\n",
        "#print(dados[\"dados\"][0][\"nome\"])\n",
        "#print(len(dados[\"dados\"]))\n"
      ],
      "metadata": {
        "id": "et1g6rUGveYm"
      },
      "execution_count": 16,
      "outputs": []
    },
    {
      "cell_type": "markdown",
      "source": [
        "## Pegando dados da API PokeAPI\n",
        "\n",
        "A PokeAPI disponibiliza todos os dados de Pokémon que você precisa em um só lugar.\n",
        "- Site da API  https://pokeapi.co/docs/v2"
      ],
      "metadata": {
        "id": "ALj9ye5F5GPe"
      }
    },
    {
      "cell_type": "code",
      "source": [
        "pip install pokebase #instalando a biblioteca"
      ],
      "metadata": {
        "colab": {
          "base_uri": "https://localhost:8080/"
        },
        "id": "HSfiL4qm5mhK",
        "outputId": "8fe727fc-5930-42b8-c558-7c99510c72f2"
      },
      "execution_count": null,
      "outputs": [
        {
          "output_type": "stream",
          "name": "stdout",
          "text": [
            "Looking in indexes: https://pypi.org/simple, https://us-python.pkg.dev/colab-wheels/public/simple/\n",
            "Requirement already satisfied: pokebase in /usr/local/lib/python3.7/dist-packages (1.3.0)\n",
            "Requirement already satisfied: requests in /usr/local/lib/python3.7/dist-packages (from pokebase) (2.23.0)\n",
            "Requirement already satisfied: certifi>=2017.4.17 in /usr/local/lib/python3.7/dist-packages (from requests->pokebase) (2022.6.15)\n",
            "Requirement already satisfied: chardet<4,>=3.0.2 in /usr/local/lib/python3.7/dist-packages (from requests->pokebase) (3.0.4)\n",
            "Requirement already satisfied: urllib3!=1.25.0,!=1.25.1,<1.26,>=1.21.1 in /usr/local/lib/python3.7/dist-packages (from requests->pokebase) (1.24.3)\n",
            "Requirement already satisfied: idna<3,>=2.5 in /usr/local/lib/python3.7/dist-packages (from requests->pokebase) (2.10)\n"
          ]
        }
      ]
    },
    {
      "cell_type": "code",
      "source": [
        "import pokebase as pb\n",
        "chesto = pb.APIResource('berry', 'chesto')\n",
        "chesto.name"
      ],
      "metadata": {
        "colab": {
          "base_uri": "https://localhost:8080/",
          "height": 36
        },
        "id": "yqibVHvC51XQ",
        "outputId": "f5be12b0-9139-4ec1-c396-666eaa6fbbf1"
      },
      "execution_count": null,
      "outputs": [
        {
          "output_type": "execute_result",
          "data": {
            "text/plain": [
              "'chesto'"
            ],
            "application/vnd.google.colaboratory.intrinsic+json": {
              "type": "string"
            }
          },
          "metadata": {},
          "execution_count": 10
        }
      ]
    },
    {
      "cell_type": "code",
      "source": [
        "chesto.natural_gift_type.name"
      ],
      "metadata": {
        "colab": {
          "base_uri": "https://localhost:8080/",
          "height": 36
        },
        "id": "g7eTVjJB6KK2",
        "outputId": "52c4c487-bc7a-4a4e-ad17-a3d6dd9a1a10"
      },
      "execution_count": null,
      "outputs": [
        {
          "output_type": "execute_result",
          "data": {
            "text/plain": [
              "'water'"
            ],
            "application/vnd.google.colaboratory.intrinsic+json": {
              "type": "string"
            }
          },
          "metadata": {},
          "execution_count": 11
        }
      ]
    },
    {
      "cell_type": "code",
      "source": [
        "charmander = pb.pokemon('charmander')\n",
        "charmander.url"
      ],
      "metadata": {
        "colab": {
          "base_uri": "https://localhost:8080/",
          "height": 36
        },
        "id": "Q-3lnQPu6O0m",
        "outputId": "78b257f1-6d87-45a8-894d-f71ed797e451"
      },
      "execution_count": null,
      "outputs": [
        {
          "output_type": "execute_result",
          "data": {
            "text/plain": [
              "'http://pokeapi.co/api/v2/pokemon/4/'"
            ],
            "application/vnd.google.colaboratory.intrinsic+json": {
              "type": "string"
            }
          },
          "metadata": {},
          "execution_count": 12
        }
      ]
    },
    {
      "cell_type": "code",
      "source": [
        "s1 = pb.SpriteResource('pokemon', 17)\n",
        "s1.url"
      ],
      "metadata": {
        "colab": {
          "base_uri": "https://localhost:8080/",
          "height": 36
        },
        "id": "afNtv7gy9k1h",
        "outputId": "d1539813-4a20-4dc1-bf2a-7fd47606db48"
      },
      "execution_count": null,
      "outputs": [
        {
          "output_type": "execute_result",
          "data": {
            "text/plain": [
              "'https://raw.githubusercontent.com/PokeAPI/sprites/master/sprites/pokemon/17.png'"
            ],
            "application/vnd.google.colaboratory.intrinsic+json": {
              "type": "string"
            }
          },
          "metadata": {},
          "execution_count": 13
        }
      ]
    },
    {
      "cell_type": "markdown",
      "source": [
        "### Utilizando o HTML + Python + PokeAPI"
      ],
      "metadata": {
        "id": "I53rBh5fDvy3"
      }
    },
    {
      "cell_type": "code",
      "source": [
        "import webbrowser\n",
        "\n",
        "f = open('helloworld.html','w')\n",
        "\n",
        "message = \"\"\"<html>\n",
        "<head></head>\n",
        "<body><p>Hello World!</p></body>\n",
        "</html>\"\"\"\n",
        "\n",
        "f.write(message)\n",
        "f.close()\n",
        "\n",
        "webbrowser.open_new_tab('helloworld.html') #abre o browser padrão"
      ],
      "metadata": {
        "id": "gGdfb9rz9_vN"
      },
      "execution_count": null,
      "outputs": []
    },
    {
      "cell_type": "code",
      "source": [
        "import webbrowser\n",
        "\n",
        "pagina=open(\"pagina.html\",\"w\", encoding=\"utf-8\")\n",
        "pagina.write(\"\"\"\n",
        "<!DOCTYPE html>\n",
        "<html lang=\"pt-BR\">\n",
        "<head>\n",
        "<meta charset=\"utf-8\">\n",
        "<title>Título da Página</title>\n",
        "</head>\n",
        "<body>\n",
        "Olá!\n",
        "\"\"\")\n",
        "for l in range(10):\n",
        "    pagina.write(\"<p>%d</p>\\n\" % l)\n",
        "pagina.write(\"\"\"\n",
        "</body>\n",
        "</html>\n",
        "\"\"\")\n",
        "\n",
        "pagina.close()\n",
        "webbrowser.open_new_tab('pagina.html')\n"
      ],
      "metadata": {
        "id": "n1qbxWoqD0Ot"
      },
      "execution_count": null,
      "outputs": []
    },
    {
      "cell_type": "code",
      "source": [
        "import webbrowser\n",
        "import pokebase as pb\n",
        "\n",
        "pagina=open(\"pagina.html\",\"w\", encoding=\"utf-8\")\n",
        "pagina.write(\"\"\"\n",
        "<!DOCTYPE html>\n",
        "<html lang=\"pt-BR\">\n",
        "<head>\n",
        "<meta charset=\"utf-8\">\n",
        "<title>Título da Página</title>\n",
        "</head>\n",
        "<body>\n",
        "\n",
        "\"\"\")\n",
        "for l in range(1,10):\n",
        "    pagina.write(\"<img src='https://raw.githubusercontent.com/PokeAPI/sprites/master/sprites/pokemon/%d.png'><br>\" % l )\n",
        "pagina.write(\"\"\"\n",
        "</body>\n",
        "</html>\n",
        "\"\"\")\n",
        "\n",
        "pagina.close()\n",
        "webbrowser.open_new_tab('pagina.html')\n"
      ],
      "metadata": {
        "id": "G7VWq1ZlETVq"
      },
      "execution_count": null,
      "outputs": []
    },
    {
      "cell_type": "markdown",
      "source": [
        "Referências \n",
        "- MENEZES, Nilo Ney Coutinho. Introdução a programação com Python. São Paulo: Novatec, 2019.\n",
        "- https://www.w3schools.com/python\n",
        "- https://www.w3schools.com/python/python_functions.asp\n",
        "- https://www.delftstack.com/pt/howto/python/python-save-dictionary-to-json/#:~:text=Para%20salvar%20o%20dicion%C3%A1rio%20no,load()%20da%20biblioteca%20pickle%20.\n",
        "- https://www.freecodecamp.org/portuguese/news/ler-arquivos-json-em-python-como-usar-load-loads-e-dump-dumps-com-arquivos-json/\n"
      ],
      "metadata": {
        "id": "cThzZSezrvah"
      }
    },
    {
      "cell_type": "markdown",
      "source": [
        ""
      ],
      "metadata": {
        "id": "0vptuX328qSG"
      }
    }
  ]
}
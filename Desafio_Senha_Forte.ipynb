{
  "nbformat": 4,
  "nbformat_minor": 0,
  "metadata": {
    "colab": {
      "provenance": [],
      "authorship_tag": "ABX9TyONw7HFQtlFSSimDURmHLQ2",
      "include_colab_link": true
    },
    "kernelspec": {
      "name": "python3",
      "display_name": "Python 3"
    },
    "language_info": {
      "name": "python"
    }
  },
  "cells": [
    {
      "cell_type": "markdown",
      "metadata": {
        "id": "view-in-github",
        "colab_type": "text"
      },
      "source": [
        "<a href=\"https://colab.research.google.com/github/fgsantosti/AlgoritmoseProgramacao/blob/master/Desafio_Senha_Forte.ipynb\" target=\"_parent\"><img src=\"https://colab.research.google.com/assets/colab-badge.svg\" alt=\"Open In Colab\"/></a>"
      ]
    },
    {
      "cell_type": "code",
      "source": [
        "senhas = ['#forTe1','senhafraca','Qu@s1','Voce@Consegue!2023']\n",
        "maiusculo = ['A','B','C','D','E','F','G','H','I','J','K','L','M','N','O','P','Q','R','S','T','U','V','W','X','Y','Z']\n",
        "minusculo = ['a','b','c','d','e','f','g','h','i','j','k','l','m','n','o','p','q','r','s','t','u','v','w','x','y','z']\n",
        "caracteres = ['!','@','#','$', '%', '¨','&', '*', '(', ')']\n",
        "\n",
        "def verifica_tamanho(senhas):\n",
        "  lsenhas = []\n",
        "  for senha in senhas:\n",
        "    if len(senha)>=7:\n",
        "      lsenhas.append(senha)\n",
        "  return lsenhas\n",
        "\n",
        "def verifica_maiusculo(senhas):\n",
        "  lsenhas = []\n",
        "  for senha in senhas:\n",
        "    cont = 0   \n",
        "    for letra in senha:\n",
        "      if letra in maiusculo:\n",
        "        cont += 1\n",
        "    if cont >=1:\n",
        "      lsenhas.append(senha)\n",
        "  return lsenhas\n",
        "\n",
        "def verifica_minusculo(senhas):\n",
        "  lsenhas = []\n",
        "  for senha in senhas:\n",
        "    cont = 0   \n",
        "    for letra in senha:\n",
        "      if letra in minusculo:\n",
        "        cont += 1\n",
        "    if cont >=1:\n",
        "      lsenhas.append(senha)\n",
        "  return lsenhas\n",
        "\n",
        "def verifica_caracteres_especiais(senhas):\n",
        "    lsenhas = []\n",
        "    for senha in senhas:\n",
        "      cont = 0   \n",
        "      for letra in senha:\n",
        "        if letra in caracteres:\n",
        "          cont += 1\n",
        "      if cont >=1:\n",
        "        lsenhas.append(senha)\n",
        "    return lsenhas\n",
        "\n",
        "\n",
        "lsenhas = verifica_tamanho(verifica_maiusculo(verifica_minusculo(verifica_caracteres_especiais(senhas))))\n",
        "for senha in lsenhas:\n",
        "  print(senha)"
      ],
      "metadata": {
        "colab": {
          "base_uri": "https://localhost:8080/"
        },
        "id": "HxgrPV9BP1X3",
        "outputId": "7441ad5a-8ca5-4f2f-a01b-96064cc342ec"
      },
      "execution_count": 16,
      "outputs": [
        {
          "output_type": "stream",
          "name": "stdout",
          "text": [
            "#forTe1\n",
            "Voce@Consegue!2023\n"
          ]
        }
      ]
    }
  ]
}